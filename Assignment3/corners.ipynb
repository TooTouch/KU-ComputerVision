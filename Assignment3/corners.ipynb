{
 "cells": [
  {
   "cell_type": "markdown",
   "metadata": {},
   "source": [
    "# Part1: Implementing the Eigenvalue and Harris corner detectors (60 points):"
   ]
  },
  {
   "cell_type": "markdown",
   "metadata": {},
   "source": [
    "Implement corner detectors based both on the minimum Eigenvalue and the Harrish measure. The corner detectors should be coded in a function called `cornerDetect(img, winSize=7, type=0)`,\n",
    "\n",
    "where the input arguments are\n",
    "\n",
    "```\n",
    "img = image # we are only doing grayscale images,\n",
    "\n",
    "winSize = total size of window for summation in pixels,\n",
    "\n",
    "type = {0 – Eigenvalue, 1 – Harris}\n",
    "```\n",
    "\n",
    "The function should return the corner strength as a numpy array that has the same size as your input image.\n",
    "\n",
    "The steps the function has to do are:\n",
    "\n",
    "1. Filter img with Sobel kernel to obtain derivatives Ix, Iy\n",
    "2. For each pixel in img, determine second moment matrix H summed up over the window\n",
    "3. Depending on type, either determine the minimum eigenvalue [using numpy functionality] OR the Harris corner measure and store in return array\n",
    "\n",
    "Test your corner detector on this picture\n",
    "\n",
    "https://users.fmrib.ox.ac.uk/~steve/susan/susan/img74.gif\n",
    "\n",
    "[Read this with matplotlib! Depending on your installation of matplotlib, you will need to convert this to PNG first, since some installations can only read PNG. Again, do NOT use OpenCV!]\n",
    "\n",
    "Test the picture with `window sizes (3,5,7,9,11,15,21)` for both types of corner measures and TIME the speed. For each window size, plot the output of the corner measures in a nice way like shown during class. Plot the overall speed comparing the two measures in another plot.\n",
    "\n",
    "In the ipython notebook, answer the following questions:\n",
    "\n",
    "1. At which window sizes can you detect all “meaningful” corners?\n",
    "2. Which method is faster – Eigenvalue or Harris? By how much?"
   ]
  },
  {
   "cell_type": "markdown",
   "metadata": {},
   "source": [
    "# Setup"
   ]
  },
  {
   "cell_type": "code",
   "execution_count": 1,
   "metadata": {},
   "outputs": [],
   "source": [
    "import matplotlib as mpl\n",
    "import matplotlib.pyplot as plt\n",
    "import time\n",
    "import numpy as np \n",
    "import pandas as pd \n",
    "\n",
    "import matplotlib.colors as colors\n",
    "from mpl_toolkits.mplot3d import Axes3D\n",
    "from tqdm.auto import tqdm\n",
    "\n",
    "import cv2 as cv\n",
    "\n",
    "import ipywidgets"
   ]
  },
  {
   "cell_type": "code",
   "execution_count": 2,
   "metadata": {},
   "outputs": [],
   "source": [
    "def rgb2gray(rgb):\n",
    "\n",
    "    r, g, b = rgb[:,:,0], rgb[:,:,1], rgb[:,:,2]\n",
    "    gray = 0.2989 * r + 0.5870 * g + 0.1140 * b\n",
    "\n",
    "    return gray"
   ]
  },
  {
   "cell_type": "markdown",
   "metadata": {},
   "source": [
    "# Load image"
   ]
  },
  {
   "cell_type": "code",
   "execution_count": 3,
   "metadata": {},
   "outputs": [],
   "source": [
    "# Convert gif into png using web-service in https://ezgif.com\n",
    "img = plt.imread('img74.png')\n",
    "img = rgb2gray(img)"
   ]
  },
  {
   "cell_type": "markdown",
   "metadata": {},
   "source": [
    "# Eigenvalue and Herris corner detection in gray-scale image"
   ]
  },
  {
   "cell_type": "code",
   "execution_count": 57,
   "metadata": {},
   "outputs": [],
   "source": [
    "def convolution(img: np.array, weights: np.array):\n",
    "    \"\"\"\n",
    "    Convolution with weights filter\n",
    "    \n",
    "    Arguments\n",
    "    ---------\n",
    "    - img      : image\n",
    "    - weights  : filter weights\n",
    "    \n",
    "    Return\n",
    "    ------\n",
    "    - filtered : filtered image\n",
    "    \n",
    "    \"\"\"\n",
    "    weights = weights.astype(float)\n",
    "    filtered = np.zeros_like(img)\n",
    "    \n",
    "    width = int((weights.shape[1]-1)/2)\n",
    "    height = int((weights.shape[0]-1)/2)\n",
    "    \n",
    "    for i in range(height,img.shape[1]-height):\n",
    "        for j in range(width,img.shape[0]-width):\n",
    "            filtered[j,i]=np.sum(weights*img[j-width:j+width+1,i-height:i+height+1])\n",
    "            \n",
    "    return filtered\n",
    "\n",
    "def cornerDetect(img: np.array, winSize: int = 7, type: int = 0):\n",
    "    \"\"\"\n",
    "    Corner Detection\n",
    "    \n",
    "    Arguments\n",
    "    ---------\n",
    "    - img     : image # we are only doing grayscale images,\n",
    "    - winSize : total size of window for summation in pixels,\n",
    "    - type    : {0 – Eigenvalue, 1 – Harris}\n",
    "    \n",
    "    Return\n",
    "    ------\n",
    "    - l1      : detected corner array by Eigenvalue\n",
    "    - h       : detected corner array by Herris\n",
    "    \"\"\"\n",
    "    \n",
    "    # sobel filter by axis\n",
    "    filter_sobelx = np.array([\n",
    "        (-1,0,1),\n",
    "        (-2,0,2),\n",
    "        (-1,0,1)\n",
    "    ])\n",
    "    filter_sobely = np.array([\n",
    "        (-1,-2,-1),\n",
    "        (0,0,0),\n",
    "        (1,2,1)\n",
    "    ])\n",
    "    \n",
    "    # convolution\n",
    "    imgdx = convolution(img, 1/8*filter_sobelx)\n",
    "    imgdy = convolution(img, 1/8*filter_sobely)\n",
    "    \n",
    "    # define array\n",
    "    corner = np.zeros_like(img)\n",
    "    \n",
    "    # Ixx, Iyy, Ixy\n",
    "    ix2 = imgdx*imgdx\n",
    "    iy2 = imgdy*imgdy\n",
    "    ixy = imgdx*imgdy\n",
    "    \n",
    "    # calcuate Eigenvalue and Herris by window\n",
    "    for y in range(0+winSize, img.shape[0]-1-winSize):\n",
    "        for x in range(0+winSize, img.shape[1]-1-winSize):\n",
    "            sx2 = np.sum(ix2[y-winSize:y+winSize, x-winSize:x+winSize])\n",
    "            sy2 = np.sum(iy2[y-winSize:y+winSize, x-winSize:x+winSize])\n",
    "            sxy = np.sum(ixy[y-winSize:y+winSize, x-winSize:x+winSize])\n",
    "            \n",
    "            # H\n",
    "            tmpH = np.array([(sx2,sxy), (sxy,sy2)])\n",
    "\n",
    "            if type==0:\n",
    "                # Eigenvalues\n",
    "                corner[y,x], _ = np.sort(np.linalg.eigvals(tmpH))\n",
    "            elif type==1:\n",
    "                # Herris\n",
    "                ttmp = np.trace(tmpH)\n",
    "                if ttmp != 0:\n",
    "                    corner[y,x] = np.linalg.det(tmpH)/ttmp\n",
    "            \n",
    "    return corner          "
   ]
  },
  {
   "cell_type": "code",
   "execution_count": 7,
   "metadata": {},
   "outputs": [
    {
     "data": {
      "application/vnd.jupyter.widget-view+json": {
       "model_id": "329d5df6674945d997af5235b617b971",
       "version_major": 2,
       "version_minor": 0
      },
      "text/plain": [
       "HBox(children=(FloatProgress(value=0.0, description='Window Size', max=7.0, style=ProgressStyle(description_wi…"
      ]
     },
     "metadata": {},
     "output_type": "display_data"
    },
    {
     "data": {
      "application/vnd.jupyter.widget-view+json": {
       "model_id": "",
       "version_major": 2,
       "version_minor": 0
      },
      "text/plain": [
       "HBox(children=(FloatProgress(value=0.0, description='VALID', max=10.0, style=ProgressStyle(description_width='…"
      ]
     },
     "metadata": {},
     "output_type": "display_data"
    },
    {
     "data": {
      "application/vnd.jupyter.widget-view+json": {
       "model_id": "",
       "version_major": 2,
       "version_minor": 0
      },
      "text/plain": [
       "HBox(children=(FloatProgress(value=0.0, description='VALID', max=10.0, style=ProgressStyle(description_width='…"
      ]
     },
     "metadata": {},
     "output_type": "display_data"
    },
    {
     "data": {
      "application/vnd.jupyter.widget-view+json": {
       "model_id": "",
       "version_major": 2,
       "version_minor": 0
      },
      "text/plain": [
       "HBox(children=(FloatProgress(value=0.0, description='VALID', max=10.0, style=ProgressStyle(description_width='…"
      ]
     },
     "metadata": {},
     "output_type": "display_data"
    },
    {
     "data": {
      "application/vnd.jupyter.widget-view+json": {
       "model_id": "",
       "version_major": 2,
       "version_minor": 0
      },
      "text/plain": [
       "HBox(children=(FloatProgress(value=0.0, description='VALID', max=10.0, style=ProgressStyle(description_width='…"
      ]
     },
     "metadata": {},
     "output_type": "display_data"
    },
    {
     "data": {
      "application/vnd.jupyter.widget-view+json": {
       "model_id": "",
       "version_major": 2,
       "version_minor": 0
      },
      "text/plain": [
       "HBox(children=(FloatProgress(value=0.0, description='VALID', max=10.0, style=ProgressStyle(description_width='…"
      ]
     },
     "metadata": {},
     "output_type": "display_data"
    },
    {
     "data": {
      "application/vnd.jupyter.widget-view+json": {
       "model_id": "",
       "version_major": 2,
       "version_minor": 0
      },
      "text/plain": [
       "HBox(children=(FloatProgress(value=0.0, description='VALID', max=10.0, style=ProgressStyle(description_width='…"
      ]
     },
     "metadata": {},
     "output_type": "display_data"
    },
    {
     "data": {
      "application/vnd.jupyter.widget-view+json": {
       "model_id": "",
       "version_major": 2,
       "version_minor": 0
      },
      "text/plain": [
       "HBox(children=(FloatProgress(value=0.0, description='VALID', max=10.0, style=ProgressStyle(description_width='…"
      ]
     },
     "metadata": {},
     "output_type": "display_data"
    },
    {
     "name": "stdout",
     "output_type": "stream",
     "text": [
      "\n"
     ]
    }
   ],
   "source": [
    "winSize_lst = (3,5,7,9,11,15,21)\n",
    "eigen_result = []\n",
    "eigen_time = []\n",
    "herris_result = []\n",
    "herris_time = []\n",
    "\n",
    "nb_valid_step = 10\n",
    "# Corner detection by window size\n",
    "for idx, winSize in enumerate(tqdm(winSize_lst, desc='Window Size')):\n",
    "    eigen_time_i = []\n",
    "    herris_time_i = []\n",
    "    eigen_result.append(cornerDetect(img, winSize=winSize, type=0))\n",
    "    herris_result.append(cornerDetect(img, winSize=winSize, type=1)) \n",
    "    # iteration to valifying computation time\n",
    "    for _ in tqdm(range(nb_valid_step), desc='VALID', leave=False):\n",
    "        # Eigenvalue corner detection\n",
    "        start = time.time()\n",
    "        _ = cornerDetect(img, winSize=winSize, type=0)\n",
    "        eigen_time_i.append(time.time() - start)\n",
    "\n",
    "        # Herris corner detection\n",
    "        start = time.time()\n",
    "        _ = cornerDetect(img, winSize=winSize, type=1)\n",
    "        herris_time_i.append(time.time() - start)\n",
    "        \n",
    "    eigen_time.append(eigen_time_i)\n",
    "    herris_time.append(herris_time_i)"
   ]
  },
  {
   "cell_type": "markdown",
   "metadata": {},
   "source": [
    "## Q1. At which window sizes can you detect all \"meaningful\" corners?"
   ]
  },
  {
   "cell_type": "code",
   "execution_count": 9,
   "metadata": {
    "scrolled": false
   },
   "outputs": [],
   "source": [
    "def plotting_corner_result(threshold):\n",
    "    len_winSize_lst = len(winSize_lst)\n",
    "\n",
    "    fig, ax = plt.subplots(len_winSize_lst, 2, figsize=(12,36))\n",
    "\n",
    "    for i in range(len_winSize_lst):\n",
    "        eigen_cor = eigen_result[i] > threshold\n",
    "        eigen_cor_x = np.argwhere(eigen_cor==True)[:,1]\n",
    "        eigen_cor_y = np.argwhere(eigen_cor==True)[:,0]\n",
    "\n",
    "        herris_cor = herris_result[i] > threshold\n",
    "        herris_cor_x = np.argwhere(herris_cor==True)[:,1]\n",
    "        herris_cor_y = np.argwhere(herris_cor==True)[:,0]\n",
    "\n",
    "        ax[i,0].imshow(img, cmap='gray')\n",
    "        ax[i,0].scatter(eigen_cor_x, eigen_cor_y, color='red')\n",
    "        ax[i,0].set_title(f'Eigenvalue Corner Detection [Window Size {winSize_lst[i]}]',size=15)\n",
    "\n",
    "        ax[i,1].imshow(img, cmap='gray')\n",
    "        ax[i,1].scatter(herris_cor_x, herris_cor_y, color='red')\n",
    "        ax[i,1].set_title(f'Herris Corner Detection [Window Size {winSize_lst[i]}]',size=15)\n",
    "\n",
    "    plt.tight_layout()\n",
    "    plt.show()"
   ]
  },
  {
   "cell_type": "code",
   "execution_count": 11,
   "metadata": {
    "scrolled": false
   },
   "outputs": [
    {
     "data": {
      "application/vnd.jupyter.widget-view+json": {
       "model_id": "67102a0d1df14797841b965b70c2616c",
       "version_major": 2,
       "version_minor": 0
      },
      "text/plain": [
       "interactive(children=(IntSlider(value=0, description='threshold'), Output()), _dom_classes=('widget-interact',…"
      ]
     },
     "metadata": {},
     "output_type": "display_data"
    }
   ],
   "source": [
    "threshold = ipywidgets.IntSlider(value=0, min=0, max=100, step=1)\n",
    "ipywidgets.interactive(plotting_corner_result, threshold=threshold)"
   ]
  },
  {
   "cell_type": "markdown",
   "metadata": {},
   "source": [
    "## Q2. Which method is faster - Eigenvalue or Harris? By how much?"
   ]
  },
  {
   "cell_type": "code",
   "execution_count": 12,
   "metadata": {},
   "outputs": [
    {
     "data": {
      "image/png": "[encoded data removed]",
      "text/plain": [
       "<Figure size 720x360 with 1 Axes>"
      ]
     },
     "metadata": {
      "needs_background": "light"
     },
     "output_type": "display_data"
    }
   ],
   "source": [
    "eigen_time_mean = [np.mean(t) for t in eigen_time]\n",
    "herris_time_mean = [np.mean(t) for t in herris_time]\n",
    "\n",
    "plt.figure(figsize=(10,5))\n",
    "plt.plot(winSize_lst, eigen_time_mean, marker='x')\n",
    "plt.plot(winSize_lst, herris_time_mean, marker='o')\n",
    "plt.legend(['Eigenvalue','Herris'], loc='upper right')\n",
    "plt.ylabel('Average Second')\n",
    "plt.xlabel('Window Size')\n",
    "plt.xticks(winSize_lst)\n",
    "plt.title('Comparison Computation Speed Between Eigenvalue and Herris',size=15)\n",
    "plt.show()"
   ]
  },
  {
   "cell_type": "code",
   "execution_count": 13,
   "metadata": {},
   "outputs": [
    {
     "data": {
      "text/html": [
       "<div>\n",
       "<style scoped>\n",
       "    .dataframe tbody tr th:only-of-type {\n",
       "        vertical-align: middle;\n",
       "    }\n",
       "\n",
       "    .dataframe tbody tr th {\n",
       "        vertical-align: top;\n",
       "    }\n",
       "\n",
       "    .dataframe thead th {\n",
       "        text-align: right;\n",
       "    }\n",
       "</style>\n",
       "<table border=\"1\" class=\"dataframe\">\n",
       "  <thead>\n",
       "    <tr style=\"text-align: right;\">\n",
       "      <th></th>\n",
       "      <th>Eigenvalue Mean (sec)</th>\n",
       "      <th>Eigenvalue Std (sec)</th>\n",
       "      <th>Herris Mean (sec)</th>\n",
       "      <th>Herris Std (sec)</th>\n",
       "    </tr>\n",
       "  </thead>\n",
       "  <tbody>\n",
       "    <tr>\n",
       "      <th>0</th>\n",
       "      <td>10.189264</td>\n",
       "      <td>0.235407</td>\n",
       "      <td>7.327327</td>\n",
       "      <td>0.241453</td>\n",
       "    </tr>\n",
       "    <tr>\n",
       "      <th>1</th>\n",
       "      <td>9.987933</td>\n",
       "      <td>0.220534</td>\n",
       "      <td>7.527918</td>\n",
       "      <td>0.244741</td>\n",
       "    </tr>\n",
       "    <tr>\n",
       "      <th>2</th>\n",
       "      <td>9.967073</td>\n",
       "      <td>0.275395</td>\n",
       "      <td>7.664538</td>\n",
       "      <td>0.153681</td>\n",
       "    </tr>\n",
       "    <tr>\n",
       "      <th>3</th>\n",
       "      <td>9.970199</td>\n",
       "      <td>0.208230</td>\n",
       "      <td>7.878133</td>\n",
       "      <td>0.237185</td>\n",
       "    </tr>\n",
       "    <tr>\n",
       "      <th>4</th>\n",
       "      <td>9.888393</td>\n",
       "      <td>0.302375</td>\n",
       "      <td>8.071266</td>\n",
       "      <td>0.132120</td>\n",
       "    </tr>\n",
       "    <tr>\n",
       "      <th>5</th>\n",
       "      <td>9.816208</td>\n",
       "      <td>0.305053</td>\n",
       "      <td>8.031403</td>\n",
       "      <td>0.292462</td>\n",
       "    </tr>\n",
       "    <tr>\n",
       "      <th>6</th>\n",
       "      <td>9.620773</td>\n",
       "      <td>0.256817</td>\n",
       "      <td>8.106469</td>\n",
       "      <td>0.295920</td>\n",
       "    </tr>\n",
       "  </tbody>\n",
       "</table>\n",
       "</div>"
      ],
      "text/plain": [
       "   Eigenvalue Mean (sec)  Eigenvalue Std (sec)  Herris Mean (sec)  \\\n",
       "0              10.189264              0.235407           7.327327   \n",
       "1               9.987933              0.220534           7.527918   \n",
       "2               9.967073              0.275395           7.664538   \n",
       "3               9.970199              0.208230           7.878133   \n",
       "4               9.888393              0.302375           8.071266   \n",
       "5               9.816208              0.305053           8.031403   \n",
       "6               9.620773              0.256817           8.106469   \n",
       "\n",
       "   Herris Std (sec)  \n",
       "0          0.241453  \n",
       "1          0.244741  \n",
       "2          0.153681  \n",
       "3          0.237185  \n",
       "4          0.132120  \n",
       "5          0.292462  \n",
       "6          0.295920  "
      ]
     },
     "execution_count": 13,
     "metadata": {},
     "output_type": "execute_result"
    }
   ],
   "source": [
    "pd.DataFrame({\n",
    "    'Eigenvalue Mean (sec)': [np.mean(t) for t in eigen_time],\n",
    "    'Eigenvalue Std (sec)': [np.std(t) for t in eigen_time],\n",
    "    'Herris Mean (sec)': [np.mean(t) for t in herris_time],\n",
    "    'Herris Std (sec)': [np.std(t) for t in herris_time],\n",
    "})"
   ]
  },
  {
   "cell_type": "markdown",
   "metadata": {},
   "source": [
    "---"
   ]
  },
  {
   "cell_type": "markdown",
   "metadata": {},
   "source": [
    "# Bonus"
   ]
  },
  {
   "cell_type": "markdown",
   "metadata": {},
   "source": [
    "Bonus (10 points): Extend the cornerDetect function such that it works with color images – note that it should NOT create three images, but still only one corner value, but now taking into account all three color channels. Insert the code as a function cornerDetectColor and plot the results for this picture:\n",
    "\n",
    "https://miro.medium.com/max/700/1*KvDEGIpfwdJtUFwB5acYEA.png"
   ]
  },
  {
   "cell_type": "code",
   "execution_count": 96,
   "metadata": {},
   "outputs": [],
   "source": [
    "def cornerDetectColor(img: np.array, winSize: int = 7, type: int = 0):\n",
    "    \"\"\"\n",
    "    Corner Detection in color image\n",
    "    \n",
    "    Arguments\n",
    "    ---------\n",
    "    - img     : image \n",
    "    - winSize : total size of window for summation in pixels,\n",
    "    - type    : {0 – Eigenvalue, 1 – Harris}\n",
    "    \n",
    "    Return\n",
    "    ------\n",
    "    - l1      : detected corner array by Eigenvalue\n",
    "    - h       : detected corner array by Herris\n",
    "    \"\"\"\n",
    "    \n",
    "    # sobel filter by axis\n",
    "    filter_sobelx = np.array([\n",
    "        (-1,0,1),\n",
    "        (-2,0,2),\n",
    "        (-1,0,1)\n",
    "    ])\n",
    "    filter_sobely = np.array([\n",
    "        (-1,-2,-1),\n",
    "        (0,0,0),\n",
    "        (1,2,1)\n",
    "    ])\n",
    "    \n",
    "    # define array\n",
    "    corner = []\n",
    "    \n",
    "    # calcuate Eigenvalue and Herris by window\n",
    "    for c in range(img.shape[2]):\n",
    "        # convolution\n",
    "        img_c = img[...,c]\n",
    "        \n",
    "        imgdx = convolution(img_c, 1/8*filter_sobelx)\n",
    "        imgdy = convolution(img_c, 1/8*filter_sobely)\n",
    "\n",
    "        # Ixx, Iyy, Ixy\n",
    "        ix2 = imgdx*imgdx\n",
    "        iy2 = imgdy*imgdy\n",
    "        ixy = imgdx*imgdy\n",
    "        corner_i = np.zeros_like(img_c)\n",
    "        for y in range(0+winSize, img_c.shape[0]-1-winSize):\n",
    "            for x in range(0+winSize, img_c.shape[1]-1-winSize):\n",
    "                # average each channel results\n",
    "                sx2 = np.sum(ix2[y-winSize:y+winSize, x-winSize:x+winSize])\n",
    "                sy2 = np.sum(iy2[y-winSize:y+winSize, x-winSize:x+winSize])\n",
    "                sxy = np.sum(ixy[y-winSize:y+winSize, x-winSize:x+winSize])\n",
    "                \n",
    "                # H\n",
    "                tmpH = np.array([(sx2,sxy), (sxy,sy2)])\n",
    "\n",
    "                if type==0:\n",
    "                    # Eigenvalues\n",
    "                    corner_i[y,x], _ = np.sort(np.linalg.eigvals(tmpH))\n",
    "                elif type==1:\n",
    "                    # Herris\n",
    "                    ttmp = np.trace(tmpH)\n",
    "                    if ttmp != 0:\n",
    "                        corner_i[y,x] = np.linalg.det(tmpH)/ttmp\n",
    "    \n",
    "        corner.append(corner_i)\n",
    "    \n",
    "    corner = np.mean(corner, axis=0)\n",
    "            \n",
    "    return corner"
   ]
  },
  {
   "cell_type": "code",
   "execution_count": 100,
   "metadata": {},
   "outputs": [
    {
     "data": {
      "application/vnd.jupyter.widget-view+json": {
       "model_id": "c35911095ed1468092fa874c8faf956f",
       "version_major": 2,
       "version_minor": 0
      },
      "text/plain": [
       "HBox(children=(FloatProgress(value=0.0, max=7.0), HTML(value='')))"
      ]
     },
     "metadata": {},
     "output_type": "display_data"
    },
    {
     "name": "stdout",
     "output_type": "stream",
     "text": [
      "\n"
     ]
    }
   ],
   "source": [
    "color_img = plt.imread('color_img.png')\n",
    "\n",
    "winSize_lst = (3,5,7,9,11,15,21)\n",
    "eigen_color_result = []\n",
    "herris_color_result = []\n",
    "\n",
    "# Corner detection by window size\n",
    "for idx, winSize in enumerate(tqdm(winSize_lst)):\n",
    "    # Eigenvalue corner detection\n",
    "    eigen_color_result.append(cornerDetectColor(color_img, winSize=winSize, type=0))\n",
    "    \n",
    "    # Herris corner detection\n",
    "    herris_color_result.append(cornerDetectColor(color_img, winSize=winSize, type=1))    "
   ]
  },
  {
   "cell_type": "code",
   "execution_count": 101,
   "metadata": {},
   "outputs": [],
   "source": [
    "def plotting_color_corner_result(threshold):\n",
    "    len_winSize_lst = len(winSize_lst)\n",
    "\n",
    "    fig, ax = plt.subplots(len_winSize_lst, 2, figsize=(12,36))\n",
    "\n",
    "    for i in range(len_winSize_lst):\n",
    "        eigen_cor = eigen_color_result[i] > threshold\n",
    "        eigen_cor_x = np.argwhere(eigen_cor==True)[:,1]\n",
    "        eigen_cor_y = np.argwhere(eigen_cor==True)[:,0]\n",
    "\n",
    "        herris_cor = herris_color_result[i] > threshold\n",
    "        herris_cor_x = np.argwhere(herris_cor==True)[:,1]\n",
    "        herris_cor_y = np.argwhere(herris_cor==True)[:,0]\n",
    "\n",
    "        ax[i,0].imshow(color_img, cmap='gray')\n",
    "        ax[i,0].scatter(eigen_cor_x, eigen_cor_y, color='red')\n",
    "        ax[i,0].set_title(f'Eigenvalue Corner Detection [Window Size {winSize_lst[i]}]',size=15)\n",
    "\n",
    "        ax[i,1].imshow(color_img, cmap='gray')\n",
    "        ax[i,1].scatter(herris_cor_x, herris_cor_y, color='red')\n",
    "        ax[i,1].set_title(f'Herris Corner Detection [Window Size {winSize_lst[i]}]',size=15)\n",
    "        \n",
    "    plt.tight_layout()\n",
    "    plt.show()"
   ]
  },
  {
   "cell_type": "code",
   "execution_count": 102,
   "metadata": {
    "scrolled": false
   },
   "outputs": [
    {
     "data": {
      "application/vnd.jupyter.widget-view+json": {
       "model_id": "7d6f48a6e3b744edb8f7762fccd12011",
       "version_major": 2,
       "version_minor": 0
      },
      "text/plain": [
       "interactive(children=(FloatSlider(value=0.0, description='threshold', max=10.0), Output()), _dom_classes=('wid…"
      ]
     },
     "metadata": {},
     "output_type": "display_data"
    }
   ],
   "source": [
    "threshold = ipywidgets.FloatSlider(value=0, min=0, max=10, step=0.1)\n",
    "ipywidgets.interactive(plotting_color_corner_result, threshold=threshold)"
   ]
  },
  {
   "cell_type": "code",
   "execution_count": null,
   "metadata": {},
   "outputs": [],
   "source": []
  }
 ],
 "metadata": {
  "kernelspec": {
   "display_name": "Python 3",
   "language": "python",
   "name": "python3"
  },
  "language_info": {
   "codemirror_mode": {
    "name": "ipython",
    "version": 3
   },
   "file_extension": ".py",
   "mimetype": "text/x-python",
   "name": "python",
   "nbconvert_exporter": "python",
   "pygments_lexer": "ipython3",
   "version": "3.8.3"
  }
 },
 "nbformat": 4,
 "nbformat_minor": 4
}
