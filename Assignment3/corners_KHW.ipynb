{
 "cells": [
  {
   "cell_type": "markdown",
   "id": "virtual-replacement",
   "metadata": {},
   "source": [
    "# Assingment #3"
   ]
  },
  {
   "cell_type": "markdown",
   "id": "harmful-deputy",
   "metadata": {},
   "source": [
    "## Part1 Implementing the Eigenvalue and Harris corner detectors (60 points):"
   ]
  },
  {
   "cell_type": "markdown",
   "id": "understanding-ottawa",
   "metadata": {},
   "source": [
    "Implement corner detectors based both on the minimum Eigenvalue and the Harrish measure. \n",
    "\n",
    "The corner detectors should be coded in a function called cornerDetect(img, winSize=7, type=0),"
   ]
  },
  {
   "cell_type": "markdown",
   "id": "usual-afghanistan",
   "metadata": {},
   "source": [
    "where the input arguments are"
   ]
  },
  {
   "cell_type": "markdown",
   "id": "european-immigration",
   "metadata": {},
   "source": [
    "img = image # we are only doing grayscale images,\n",
    "\n",
    "winSize = total size of window for summation in pixels,\n",
    "\n",
    "type = {0 – Eigenvalue, 1 – Harris}"
   ]
  },
  {
   "cell_type": "markdown",
   "id": "tribal-premium",
   "metadata": {},
   "source": [
    "The function should return the corner strength as a numpy array that has the same size as your input image."
   ]
  },
  {
   "cell_type": "markdown",
   "id": "coral-speech",
   "metadata": {},
   "source": [
    "The steps the function has to do are:\n",
    "\n",
    "1. Filter img with Sobel kernel to obtain derivatives Ix, Iy\n",
    "2. For each pixel in img, determine second moment matrix H summed up over the window\n",
    "3. Depending on type, either determine the minimum eigenvalue [using numpy functionality] OR the Harris corner measure and store in return array"
   ]
  },
  {
   "cell_type": "markdown",
   "id": "british-collapse",
   "metadata": {},
   "source": [
    "Test your corner detector on this picture\n",
    "\n",
    "https://users.fmrib.ox.ac.uk/~steve/susan/susan/img74.gif\n",
    "\n",
    "[Read this with matplotlib! Depending on your installation of matplotlib, you will need to convert this to PNG first, since some installations can only read PNG. Again, do NOT use OpenCV!]"
   ]
  },
  {
   "cell_type": "markdown",
   "id": "simple-belarus",
   "metadata": {},
   "source": [
    "Test the picture with window sizes (3,5,7,9,11,15,21) for both types of corner measures and TIME the speed. For each window size, plot the output of the corner measures in a nice way like shown during class. Plot the overall speed comparing the two measures in another plot.\n"
   ]
  },
  {
   "cell_type": "markdown",
   "id": "modified-writing",
   "metadata": {},
   "source": [
    "In the ipython notebook, answer the following questions:\n",
    "\n",
    "1. At which window sizes can you detect all “meaningful” corners?\n",
    "2. Which method is faster – Eigenvalue or Harris? By how much?"
   ]
  },
  {
   "cell_type": "code",
   "execution_count": 25,
   "id": "mental-glasgow",
   "metadata": {
    "ExecuteTime": {
     "end_time": "2021-04-17T19:43:09.482548Z",
     "start_time": "2021-04-17T19:43:09.477357Z"
    }
   },
   "outputs": [],
   "source": [
    "import matplotlib as mpl\n",
    "import matplotlib.colors as colors\n",
    "import matplotlib.pyplot as plt\n",
    "import time\n",
    "import numpy as np # this is the only math-ish library,\n",
    "from PIL import Image\n",
    "import urllib\n",
    "\n",
    "%matplotlib inline"
   ]
  },
  {
   "cell_type": "markdown",
   "id": "subject-intermediate",
   "metadata": {},
   "source": [
    "$$\\begin{align*}\n",
    "E(u,v)&=\\sum_{(x,y)\\in W}[I(x+u,y+v)-I(x,y)]^2 \\\\\n",
    "&\\approx \\sum_{(x,y)\\in W}[I(x,y)+I_xu+I_yv-I(x,y)^2] \\\\\n",
    "&\\approx \\sum_{(x,y)\\in W}[I_Xu+I_yv]^2 \\\\\n",
    "&\\approx Au^2+2Buv+Cv^2 \\\\ \n",
    "&\\approx \\begin{bmatrix}\n",
    " u&v\n",
    "\\end{bmatrix}\n",
    "\\begin{bmatrix}\n",
    "A & B\\\\ \n",
    "B & C\n",
    "\\end{bmatrix}\n",
    "\\begin{bmatrix}\n",
    " u \\\\ \n",
    " v \n",
    "\\end{bmatrix}\n",
    "\\end{align*}$$\n",
    "\n",
    "$$A=\\sum_{(x,y)\\in W}I_x^2 \\;\\;\\;\\; B=\\sum_{(x,y)\\in W}I_xI_y \\;\\;\\;\\; C=\\sum_{(x,y)\\in W}I_y^2$$"
   ]
  },
  {
   "cell_type": "code",
   "execution_count": 3,
   "id": "american-violation",
   "metadata": {
    "ExecuteTime": {
     "end_time": "2021-04-17T17:34:02.418090Z",
     "start_time": "2021-04-17T17:34:02.414444Z"
    }
   },
   "outputs": [
    {
     "ename": "SyntaxError",
     "evalue": "unexpected EOF while parsing (<ipython-input-3-56db54015241>, line 3)",
     "output_type": "error",
     "traceback": [
      "\u001b[0;36m  File \u001b[0;32m\"<ipython-input-3-56db54015241>\"\u001b[0;36m, line \u001b[0;32m3\u001b[0m\n\u001b[0;31m    \u001b[0m\n\u001b[0m    ^\u001b[0m\n\u001b[0;31mSyntaxError\u001b[0m\u001b[0;31m:\u001b[0m unexpected EOF while parsing\n"
     ]
    }
   ],
   "source": [
    "def cornerDetect(img, winSize=7, type=0):\n",
    "    if type==0:\n",
    "        \n",
    "    elif type==1:\n",
    "        \n",
    "    else:\n",
    "        print('type error')\n",
    "    \n",
    "    "
   ]
  },
  {
   "cell_type": "code",
   "execution_count": 12,
   "id": "vietnamese-apache",
   "metadata": {
    "ExecuteTime": {
     "end_time": "2021-04-17T19:09:58.135283Z",
     "start_time": "2021-04-17T19:09:58.130858Z"
    }
   },
   "outputs": [],
   "source": [
    "def rgb2gray(rgb):\n",
    "    r, g, b = rgb[:,:,0], rgb[:,:,1], rgb[:,:,2]\n",
    "    gray = 0.2989 * r + 0.5870 * g + 0.1140 * b\n",
    "    return gray"
   ]
  },
  {
   "cell_type": "code",
   "execution_count": 4,
   "id": "hispanic-hunger",
   "metadata": {
    "ExecuteTime": {
     "end_time": "2021-04-17T17:34:06.840639Z",
     "start_time": "2021-04-17T17:34:03.322473Z"
    }
   },
   "outputs": [],
   "source": [
    "prof = 'https://users.fmrib.ox.ac.uk/~steve/susan/susan/img74.gif'\n",
    "urllib.request.urlretrieve(prof,'img74.gif')\n",
    "\n",
    "gif='img74'\n",
    "img = Image.open(gif+'.gif')\n",
    "img.save(gif+\".png\",'png')"
   ]
  },
  {
   "cell_type": "code",
   "execution_count": 9,
   "id": "ambient-trust",
   "metadata": {
    "ExecuteTime": {
     "end_time": "2021-04-17T17:39:24.961003Z",
     "start_time": "2021-04-17T17:39:24.894532Z"
    }
   },
   "outputs": [
    {
     "data": {
      "image/png": "[encoded data removed]",
      "text/plain": [
       "<Figure size 432x288 with 1 Axes>"
      ]
     },
     "metadata": {},
     "output_type": "display_data"
    }
   ],
   "source": [
    "img = mpl.image.imread('img74.png')\n",
    "plt.imshow(img)\n",
    "plt.xticks([])\n",
    "plt.yticks([])\n",
    "plt.show()"
   ]
  },
  {
   "cell_type": "code",
   "execution_count": 11,
   "id": "collected-intro",
   "metadata": {
    "ExecuteTime": {
     "end_time": "2021-04-17T18:20:52.603451Z",
     "start_time": "2021-04-17T18:20:52.599667Z"
    }
   },
   "outputs": [
    {
     "data": {
      "text/plain": [
       "(369, 369, 4)"
      ]
     },
     "execution_count": 11,
     "metadata": {},
     "output_type": "execute_result"
    }
   ],
   "source": [
    "img.shape"
   ]
  },
  {
   "cell_type": "code",
   "execution_count": 13,
   "id": "fundamental-connectivity",
   "metadata": {
    "ExecuteTime": {
     "end_time": "2021-04-17T19:10:29.558969Z",
     "start_time": "2021-04-17T19:10:29.555859Z"
    }
   },
   "outputs": [],
   "source": [
    "mrimg = rgb2gray(img)"
   ]
  },
  {
   "cell_type": "code",
   "execution_count": 14,
   "id": "quiet-hostel",
   "metadata": {
    "ExecuteTime": {
     "end_time": "2021-04-17T19:10:31.675870Z",
     "start_time": "2021-04-17T19:10:31.673256Z"
    },
    "code_folding": []
   },
   "outputs": [],
   "source": [
    "# filter size list\n",
    "n_lst = [3, 5, 7, 9, 11, 15, 21]"
   ]
  },
  {
   "cell_type": "code",
   "execution_count": 16,
   "id": "awful-thesis",
   "metadata": {
    "ExecuteTime": {
     "end_time": "2021-04-17T19:10:48.778114Z",
     "start_time": "2021-04-17T19:10:48.773105Z"
    }
   },
   "outputs": [],
   "source": [
    "imgdy = np.diff(mrimg, 1, 0)\n",
    "imgdy = np.vstack((np.zeros((1, imgdy.shape[1])), imgdy))\n",
    "imgdx = np.diff(mrimg, 1, 1)\n",
    "imgdx = np.hstack((np.zeros((imgdx.shape[0],1)),imgdx))"
   ]
  },
  {
   "cell_type": "code",
   "execution_count": 19,
   "id": "going-carpet",
   "metadata": {
    "ExecuteTime": {
     "end_time": "2021-04-17T19:13:28.160178Z",
     "start_time": "2021-04-17T19:13:27.829971Z"
    }
   },
   "outputs": [
    {
     "data": {
      "text/plain": [
       "<function matplotlib.pyplot.show(close=None, block=None)>"
      ]
     },
     "execution_count": 19,
     "metadata": {},
     "output_type": "execute_result"
    },
    {
     "data": {
      "image/png": "[encoded data removed]",
      "text/plain": [
       "<Figure size 720x576 with 3 Axes>"
      ]
     },
     "metadata": {
      "needs_background": "light"
     },
     "output_type": "display_data"
    }
   ],
   "source": [
    "plt.figure(figsize=(10,8))\n",
    "plt.subplot(1,3,1)\n",
    "plt.imshow(mrimg,cmap='gray')\n",
    "plt.subplot(1,3,2)\n",
    "plt.imshow(imgdx,cmap='gray')\n",
    "plt.subplot(1,3,3)\n",
    "plt.imshow(imgdy,cmap='gray')\n",
    "plt.show"
   ]
  },
  {
   "cell_type": "code",
   "execution_count": 98,
   "id": "endangered-marketing",
   "metadata": {
    "ExecuteTime": {
     "end_time": "2021-04-17T21:03:23.213241Z",
     "start_time": "2021-04-17T21:03:23.197585Z"
    }
   },
   "outputs": [],
   "source": [
    "def convolution(img, weights):\n",
    "    weights = weights.astype(float)\n",
    "    filtered = np.zeros_like(img)\n",
    "    width = int((weights.shape[1]-1)/2)\n",
    "    height = int((weights.shape[0]-1)/2)\n",
    "    for i in range(height,img.shape[1]-height):\n",
    "        for j in range(width,img.shape[0]-width):\n",
    "            filtered[j,i]=np.sum(weights*img[j-width:j+width+1,i-height:i+height+1])\n",
    "    return(filtered)\n",
    "\n",
    "def cornerDetect(img, winSize=7, type=0):\n",
    "    filter_sobelx = np.array([\n",
    "        (-1,0,1),\n",
    "        (-2,0,2),\n",
    "        (-1,0,1)\n",
    "    ])\n",
    "    filter_sobely = np.array([\n",
    "        (-1,-2,-1),\n",
    "        (0,0,0),\n",
    "        (1,2,1)\n",
    "    ])\n",
    "    imgdx = convolution(img, 1/8*filter_sobelx)\n",
    "    imgdy = convolution(img, 1/8*filter_sobely)\n",
    "    l1 = np.zeros_like(img)\n",
    "    l2 = np.zeros_like(img)\n",
    "    h = np.zeros_like(img)\n",
    "    ix2 = imgdx*imgdx\n",
    "    iy2 = imgdy*imgdy\n",
    "    ixy = imgdx*imgdy\n",
    "    for y in range(0+winSize, img.shape[0]-1-winSize):\n",
    "        for x in range(0+winSize, img.shape[1]-1-winSize):\n",
    "            sx2 = np.sum(ix2[y-winSize:y+winSize, x-winSize:x+winSize])\n",
    "            sy2 = np.sum(iy2[y-winSize:y+winSize, x-winSize:x+winSize])\n",
    "            sxy = np.sum(ixy[y-winSize:y+winSize, x-winSize:x+winSize])\n",
    "            tmpH = np.array([(sx2,sxy), (sxy,sy2)])\n",
    "            l1[y,x], l2[y,x] = np.sort(np.linalg.eigvals(tmpH))\n",
    "            ttmp = np.trace(tmpH)\n",
    "            if ttmp != 0:\n",
    "                h[y,x] = np.linalg.det(tmpH)/ttmp\n",
    "            \n",
    "    threshold = 2\n",
    "    if type == 0:\n",
    "        corner = l1 > threshold\n",
    "    elif type == 1:\n",
    "        corner = h > threshold\n",
    "    else:\n",
    "        print('type error')\n",
    "            \n",
    "    return corner\n",
    "                         "
   ]
  },
  {
   "cell_type": "code",
   "execution_count": 99,
   "id": "manufactured-royalty",
   "metadata": {
    "ExecuteTime": {
     "end_time": "2021-04-17T21:03:36.866022Z",
     "start_time": "2021-04-17T21:03:23.601352Z"
    }
   },
   "outputs": [],
   "source": [
    "h = cornerDetect(mrimg, winSize=7, type=0)"
   ]
  },
  {
   "cell_type": "code",
   "execution_count": 101,
   "id": "practical-nature",
   "metadata": {
    "ExecuteTime": {
     "end_time": "2021-04-17T21:03:57.338199Z",
     "start_time": "2021-04-17T21:03:57.150015Z"
    }
   },
   "outputs": [
    {
     "data": {
      "text/plain": [
       "<matplotlib.collections.PathCollection at 0x7f84c9b21358>"
      ]
     },
     "execution_count": 101,
     "metadata": {},
     "output_type": "execute_result"
    },
    {
     "data": {
      "image/png": "[encoded data removed]",
      "text/plain": [
       "<Figure size 720x576 with 1 Axes>"
      ]
     },
     "metadata": {
      "needs_background": "light"
     },
     "output_type": "display_data"
    }
   ],
   "source": [
    "plt.figure(figsize=(10, 8))\n",
    "plt.imshow(mrimg, cmap='gray')\n",
    "cor_x = np.argwhere(h==True)[:,1]\n",
    "cor_y = np.argwhere(h==True)[:,0]\n",
    "plt.scatter(cor_x, cor_y, color='red')"
   ]
  },
  {
   "cell_type": "markdown",
   "id": "bright-safety",
   "metadata": {},
   "source": [
    "### Q1. At which window sizes can you detect all \"meaningful\" corners?"
   ]
  },
  {
   "cell_type": "markdown",
   "id": "dependent-mandate",
   "metadata": {},
   "source": [
    "### Q2. Which method is faster - Eigenvalue or Harris? By how much?"
   ]
  },
  {
   "cell_type": "markdown",
   "id": "copyrighted-fight",
   "metadata": {},
   "source": [
    "---"
   ]
  },
  {
   "cell_type": "markdown",
   "id": "hidden-buying",
   "metadata": {},
   "source": [
    "## Bonus"
   ]
  },
  {
   "cell_type": "markdown",
   "id": "hundred-administration",
   "metadata": {},
   "source": [
    "Bonus (10 points): Extend the cornerDetect function such that it works with color images – note that it should NOT create three images, but still only one corner value, but now taking into account all three color channels. Insert the code as a function cornerDetectColor and plot the results for this picture:\n",
    "\n",
    "https://miro.medium.com/max/700/1*KvDEGIpfwdJtUFwB5acYEA.png"
   ]
  },
  {
   "cell_type": "code",
   "execution_count": null,
   "id": "fantastic-appearance",
   "metadata": {},
   "outputs": [],
   "source": []
  },
  {
   "cell_type": "markdown",
   "id": "broke-remark",
   "metadata": {},
   "source": [
    "---"
   ]
  }
 ],
 "metadata": {
  "hide_input": false,
  "kernelspec": {
   "display_name": "Python 3",
   "language": "python",
   "name": "python3"
  },
  "language_info": {
   "codemirror_mode": {
    "name": "ipython",
    "version": 3
   },
   "file_extension": ".py",
   "mimetype": "text/x-python",
   "name": "python",
   "nbconvert_exporter": "python",
   "pygments_lexer": "ipython3",
   "version": "3.6.9"
  },
  "toc": {
   "base_numbering": 1,
   "nav_menu": {},
   "number_sections": true,
   "sideBar": true,
   "skip_h1_title": false,
   "title_cell": "Table of Contents",
   "title_sidebar": "Contents",
   "toc_cell": false,
   "toc_position": {},
   "toc_section_display": true,
   "toc_window_display": false
  },
  "varInspector": {
   "cols": {
    "lenName": 16,
    "lenType": 16,
    "lenVar": 40
   },
   "kernels_config": {
    "python": {
     "delete_cmd_postfix": "",
     "delete_cmd_prefix": "del ",
     "library": "var_list.py",
     "varRefreshCmd": "print(var_dic_list())"
    },
    "r": {
     "delete_cmd_postfix": ") ",
     "delete_cmd_prefix": "rm(",
     "library": "var_list.r",
     "varRefreshCmd": "cat(var_dic_list()) "
    }
   },
   "types_to_exclude": [
    "module",
    "function",
    "builtin_function_or_method",
    "instance",
    "_Feature"
   ],
   "window_display": false
  }
 },
 "nbformat": 4,
 "nbformat_minor": 5
}
