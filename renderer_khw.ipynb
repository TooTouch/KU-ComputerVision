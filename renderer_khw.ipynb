{
 "cells": [
  {
   "cell_type": "markdown",
   "id": "scenic-magnet",
   "metadata": {},
   "source": [
    "# Assingment #1"
   ]
  },
  {
   "cell_type": "markdown",
   "id": "selective-wesley",
   "metadata": {},
   "source": [
    "## Part2 Writing a renderer"
   ]
  },
  {
   "cell_type": "markdown",
   "id": "experienced-cooper",
   "metadata": {},
   "source": [
    "Define a 3D-cube as a numpy array with 8 corners in 3D space centered on [0,0,0] and edge length 2, that is, 2 of the 8 diagonally-opposite corners have the coordinates [1,1,1] and [-1,-1,-1]. In order to show this on screen, we will also have to define the edges of the cube, that is, a Nx2-array that specifies which of the 8 corners are connected, like so:\n",
    "\n",
    "$$\\mathrm{edges}=[(0,1),(0,2),(1,3),\\cdots]$$\n",
    "\n",
    "Create this array, too. Let’s first show the cube on-screen “as is”, that is, without any explicit camera. For this, use the helper-function show_3d below – the structure of the function should also help you to figure out the edges-array...\n",
    "\n",
    "Insert code that shows the cube using the function show_3d.\n",
    "\n",
    "Now, let's start by moving our cube in front of the camera. For this, we will first do a transformation according to the extrinsic parameters of the camera, that is, translation and rotation.\n",
    "\n",
    "Here is the general definition of a rotation matrix around a vector u=[ux,uy,uz] with ||u||=1:\n",
    "\n",
    "$$R=\\begin{bmatrix}\n",
    " cos\\theta+u_x^2(1-cos\\theta)& u_xu_y(1-cos\\theta)-u_zsin\\theta & u_xu_z(1-cos\\theta)+u_ysin\\theta\\\\ \n",
    " u_yu_x(1-cos\\theta)+u_zsin\\theta& cos\\theta+u_y^2(1-cos\\theta) & u_yu_z(1-cos\\theta)-u_xsin\\theta\\\\ \n",
    "u_zu_x(1-cos\\theta)-u_ysin\\theta & u_zu_y(1-cos\\theta)+u_xsin\\theta & cos\\theta+u_z^2(1-cos\\theta)\n",
    "\\end{bmatrix}$$\n",
    "\n",
    "Make a function for creating such a matrix, given a direction and an angle. Note that angles are in radians!\n",
    "\n",
    "Next, create a translation matrix using another helper function that you need to code. This means that you have to use homogenous coordinates – check the lecture slides again, how the matrix will have to look. Also remember to augment the rotation matrices accordingly!!\n",
    "\n",
    "Note that it is incredibly important to specify the order in which you rotate and in which you translate! Here, we rotate first around the x-axis (u=[1,0,0]), then around the y-axis, then around the z-axis, and then we translate.\n",
    "\n",
    "Create a function get_extrinsic_matrix(position,orientation) that returns the final 4x4 extrinsic matrix that can convert homogenous coordinates.\n",
    "\n",
    "Next, write a function to_homogenous(points) that turns an array of points into homogenous coordinates [simply add a 1 as another dimension!]. Write another function from_homogenous(points) that converts an array of homogenous coordinates into proper 3D or 2D coordinates [by dividing the first 2 or 3 coordinates by the third or fourth element – see lecture slides!]. Note, that these functions should work for both 3D and 2D input!!\n",
    "\n",
    "Using\n",
    "\n",
    "$$\\mathrm{camera\\_position}=[0,0,-3]$$\n",
    "$$\\mathrm{camera\\_orientation}=[0,0.1,0]$$\n",
    "\n",
    "insert the necessary transformations to transform the cube into camera coordinates using the transformation from get_extrinsic_matrix and show the result using show_3d. You will need to convert back and forth from homogenous coordinates to do this...\n",
    "\n",
    "Next, let’s set up the intrinsic projection, including the projection matrix itself. Restrict the intrinsic matrix to only the focal length, such that\n",
    "\n",
    "$$K=\\begin{bmatrix}\n",
    "f & 0 & s_x\\\\ \n",
    "0 & f & s_y\\\\ \n",
    "0 & 0 & 1\n",
    "\\end{bmatrix}$$\n",
    "\n",
    "Make a function get_intrinsic_matrix(f,s) that creates the full intrinsic transformation including the projection matrix 3x4 P, so that we get a 3x4 matrix overall. Again, this uses homogenous coordinates.\n",
    "\n",
    "Using\n",
    "\n",
    "$$f=0.6$$\n",
    "$$s=(0.5,0.5)$$\n",
    "\n",
    "transform the camera coordinates into projected coordinates. In order to use the helper-function show_2D from below, you will need to multiply the resulting coordinates by the size of the pixel canvas in pixels. So, we want to show an image of 200x200 pixels, you need to multiply all points by 200.\n",
    "\n",
    "Insert the final code that projects the cube into an image and plot the result using show_2d. Again, conversion between homogenous coordinates has to be used..."
   ]
  },
  {
   "cell_type": "markdown",
   "id": "thousand-rating",
   "metadata": {},
   "source": [
    "---"
   ]
  },
  {
   "cell_type": "markdown",
   "id": "baking-palestine",
   "metadata": {},
   "source": [
    "### Set up"
   ]
  },
  {
   "cell_type": "code",
   "execution_count": 1,
   "id": "adjusted-checklist",
   "metadata": {
    "ExecuteTime": {
     "end_time": "2021-03-28T13:20:33.135649Z",
     "start_time": "2021-03-28T13:20:32.906415Z"
    }
   },
   "outputs": [],
   "source": [
    "import matplotlib as mpl\n",
    "import matplotlib.pyplot as plt\n",
    "from math import atan, sin, cos\n",
    "# you are only allowed to import numpy\n",
    "# for further math calculations!!\n",
    "import numpy as np\n",
    "%matplotlib notebook"
   ]
  },
  {
   "cell_type": "code",
   "execution_count": 2,
   "id": "linear-falls",
   "metadata": {
    "ExecuteTime": {
     "end_time": "2021-03-28T13:20:33.499531Z",
     "start_time": "2021-03-28T13:20:33.492313Z"
    }
   },
   "outputs": [],
   "source": [
    "c = np.array([0, 0, 0])\n",
    "L = 2\n",
    "x1 = np.array([1, 1, 1])\n",
    "x2 = np.array([-1, -1, -1])\n",
    "u = np.array([1, 0, 0])\n",
    "f = 0.6\n",
    "s = np.array([0.5, 0.5])\n",
    "camera_position = np.array([0, 0, -3])\n",
    "camera_orientation = np.array([0, 0.1, 0])"
   ]
  },
  {
   "cell_type": "markdown",
   "id": "delayed-victim",
   "metadata": {},
   "source": [
    "$$\\Pi = \\underset{intrinsics}{\\begin{bmatrix}\n",
    "-fs_x & 0 & -x'_c\\\\ \n",
    "0 & -fs_y & y'_c\\\\ \n",
    "0 & 0 & 1\n",
    "\\end{bmatrix}}\n",
    "\\underset{projection}{\\begin{bmatrix}\n",
    "1 & 0 & 0 & 0\\\\ \n",
    "0 & 1 & 0 & 0\\\\ \n",
    "0 & 0 & 1 & 0\n",
    "\\end{bmatrix}}\n",
    "\\underset{rotation}{\\begin{bmatrix}\n",
    "R_{3\\times 3} & 0_{3\\times 1}\\\\ \n",
    "0_{1\\times 3} & 1 \n",
    "\\end{bmatrix}}\n",
    "\\underset{translation}{\\begin{bmatrix}\n",
    "I_{3\\times 3} & T_{3\\times 1}\\\\ \n",
    "0_{1\\times 3} & 1 \n",
    "\\end{bmatrix}}$$"
   ]
  },
  {
   "cell_type": "code",
   "execution_count": 22,
   "id": "unique-found",
   "metadata": {
    "ExecuteTime": {
     "end_time": "2021-03-28T13:31:09.508889Z",
     "start_time": "2021-03-28T13:31:09.483397Z"
    }
   },
   "outputs": [],
   "source": [
    "def calc_R(u, orientation, position):\n",
    "    \"\"\"\n",
    "    Get a rotation matrix \n",
    "    \n",
    "    Arguments\n",
    "    ---------\n",
    "    position: a camera position in world coordinates \n",
    "    orientation: a orientation of a camera \n",
    "    u: general definition of a rotation matrix\n",
    "    \n",
    "    Returns\n",
    "    -------\n",
    "    ext: a matrix multiplication result of extrinsic matrix\n",
    "    \n",
    "    \"\"\"\n",
    "    orientation = orientation - position\n",
    "    cos_t = np.dot(u, orientation.T)/(np.linalg.norm(u)*np.linalg.norm(orientation)) \n",
    "    sin_t = np.sqrt(1-cos_t**2)\n",
    "    R = [\n",
    "        [cos_t+(u[0]**2)*(1-cos_t), u[0]*u[1]*(1-cos_t)-u[2]*sin_t, u[0]*u[2]*(1-cos_t)+u[1]*sin_t],\n",
    "        [u[1]*u[0]*(1-cos_t)+u[2]*sin_t, cos_t+(u[1]**2)*(1-cos_t), u[1]*u[2]*(1-cos_t)-u[0]*sin_t],\n",
    "        [u[2]*u[0]*(1-cos_t)-u[1]*sin_t, u[2]*u[1]*(1-cos_t)+u[0]*sin_t, cos_t+(u[2]**2)*(1-cos_t)]\n",
    "    ]\n",
    "    return R\n",
    "\n",
    "def calc_R2(u, orientation, position):\n",
    "    \"\"\"\n",
    "    Get a rotation matrix \n",
    "    \n",
    "    Arguments\n",
    "    ---------\n",
    "    position: a camera position in world coordinates \n",
    "    orientation: a orientation of a camera \n",
    "    u: general definition of a rotation matrix\n",
    "    \n",
    "    Returns\n",
    "    -------\n",
    "    ext: a matrix multiplication result of extrinsic matrix\n",
    "    \n",
    "    \"\"\"\n",
    "    Rx = np.array([\n",
    "        [1, 0, 0],\n",
    "        [0, np.cos(orientation[0]), -np.sin(orientation[0])],\n",
    "        [0, np.sin(orientation[0]), np.cos(orientation[0])]\n",
    "    ])\n",
    "    Ry = np.array([\n",
    "        [np.cos(orientation[1]), 0, np.sin(orientation[1])],\n",
    "        [0, 1, 0],\n",
    "        [-np.sin(orientation[1]), 0, np.cos(orientation[1])]\n",
    "    ])\n",
    "    Rz = np.array([\n",
    "        [np.cos(orientation[2]), -np.sin(orientation[2]), 0],\n",
    "        [np.sin(orientation[2]), np.cos(orientation[2]), 0],\n",
    "        [0, 0, 1]\n",
    "    ])\n",
    "    R = np.dot(Rx, Ry)\n",
    "    R = np.dot(R, Rz)\n",
    "    return R\n",
    "\n",
    "def get_extrinsic_matrix(position, orientation, u):\n",
    "    \"\"\"\n",
    "    Get a extrinsic matrix to rotate a camera direction\n",
    "    \n",
    "    Arguments\n",
    "    ---------\n",
    "    position: a camera position in world coordinates \n",
    "    orientation: a orientation of a camera \n",
    "    theta: a redian for a rotation matrix \n",
    "    \n",
    "    Returns\n",
    "    -------\n",
    "    ext: a matrix multiplication result of extrinsic matrix\n",
    "    \n",
    "    \"\"\"\n",
    "    I = np.identity(3)\n",
    "    C = np.array([-position])\n",
    "    T = np.hstack([I, C.T])\n",
    "    T = np.vstack([T, np.array([0,0,0,1])])\n",
    "    R = calc_R2(u, orientation, position)\n",
    "    R = np.hstack([R, np.zeros((3,1))])\n",
    "    R = np.vstack([R, np.array([0, 0, 0, 1])])\n",
    "    ext = np.dot(R, T)\n",
    "    return ext\n",
    "\n",
    "def to_homogenous(points):\n",
    "    \"\"\"\n",
    "    Convert coordinates of a object into homogenous coordinates of a object. The object can be 2D or 3D.\n",
    "    \n",
    "    Argument\n",
    "    --------\n",
    "    points: coordinates of a object\n",
    "    \n",
    "    Return\n",
    "    ------\n",
    "    result: homogenous coordinates of a object\n",
    "    \n",
    "    \"\"\"\n",
    "    return np.hstack([points, np.ones((points.shape[0],1))])\n",
    "    \n",
    "def from_homogenous(points):\n",
    "    \"\"\"\n",
    "    Convert homogenous coordinates of a object into origin coordinates of a object. The object can be 2D or 3D.\n",
    "    \n",
    "    Argument\n",
    "    --------\n",
    "    points: homogenous coordinates of a object\n",
    "\n",
    "    Return\n",
    "    ------\n",
    "    result: origin coordinates of a object\n",
    "    \n",
    "    \"\"\"\n",
    "    return np.array(list(map(lambda x: x[:-1]/x[-1], points)))\n",
    "\n",
    "def get_intrinsic_matrix(f: float = 0.6, s: tuple = (0.5, 0.5)):\n",
    "    \"\"\"\n",
    "    Get intrinsic matrix of a camera\n",
    "    \n",
    "    Arguments\n",
    "    ---------\n",
    "    f: a focal length from a camera to a object (float, default = 0.6)\n",
    "    s: principal points (tuple, default = (0.5, 0.5))\n",
    "    \n",
    "    Return\n",
    "    ------\n",
    "    intrinsic_matrix: a intrinsic matrix of a camera\n",
    "    \n",
    "    \"\"\"\n",
    "    K = [[f, 0, s[0]],\n",
    "        [0, f, s[1]],\n",
    "        [0, 0, 1]]\n",
    "    return np.array(K)\n",
    "\n",
    "def calc_v(points, position, orientation, u, f, s):\n",
    "    ext = get_extrinsic_matrix(position, orientation, u)\n",
    "    k = get_intrinsic_matrix(f, s)\n",
    "    proj = np.hstack([np.identity(3), np.zeros((3,1))])\n",
    "    P = np.dot(k, proj)\n",
    "    P = np.dot(P, ext)\n",
    "    rx = np.array(list(map(lambda y: np.dot(P, y), to_homogenous(points))))\n",
    "    return rx"
   ]
  },
  {
   "cell_type": "code",
   "execution_count": 23,
   "id": "graduate-incident",
   "metadata": {
    "ExecuteTime": {
     "end_time": "2021-03-28T13:31:10.045744Z",
     "start_time": "2021-03-28T13:31:10.036464Z"
    }
   },
   "outputs": [],
   "source": [
    "# these functions require non-homogenous coordinates\n",
    "def show_3d(vertices, edges):\n",
    "    \"\"\"\n",
    "    Show 3D image of a object\n",
    "    \n",
    "    Arguments\n",
    "    ---------\n",
    "    vertices: vertices of a object\n",
    "    edges: edges of a object\n",
    "    \n",
    "    \"\"\"\n",
    "        \n",
    "    fig = plt.figure()\n",
    "    ax = fig.gca(projection='3d')\n",
    "    for edge in edges:\n",
    "        p1 = vertices[edge[0]]\n",
    "        p2 = vertices[edge[1]]\n",
    "        ax.plot([p1[0], p2[0]],\n",
    "                [p1[1], p2[1]],\n",
    "                [p1[2], p2[2]])\n",
    "    ax.set_ylim(-5, 5)\n",
    "    ax.set_xlabel('X')\n",
    "    ax.set_ylabel('Y')\n",
    "    ax.set_zlabel('Z')\n",
    "    ax.set_xlim(-5, 5)\n",
    "    ax.set_zlim(-5, 5)\n",
    "    plt.show()\n",
    "\n",
    "def show_2d(vertices, edges, size):\n",
    "    \"\"\"\n",
    "    Show 2D image of a object\n",
    "    \n",
    "    Arguments\n",
    "    ---------\n",
    "    vertices: vertices of a object (list)\n",
    "    edges: edges of a object (list)\n",
    "    size: maximum range of x and y axis (list, default = (1,1))\n",
    "    \n",
    "    \"\"\"\n",
    "    fig = plt.figure()\n",
    "    ax = fig.gca()\n",
    "    for edge in edges:\n",
    "        p1 = vertices[edge[0]]\n",
    "        p2 = vertices[edge[1]]\n",
    "        ax.plot([p1[0], p2[0]],\n",
    "                [p1[1], p2[1]])\n",
    "    ax.set_xlim(0, size[0])\n",
    "    ax.set_ylim(0, size[1])\n",
    "    plt.show()"
   ]
  },
  {
   "cell_type": "code",
   "execution_count": 24,
   "id": "comic-function",
   "metadata": {
    "ExecuteTime": {
     "end_time": "2021-03-28T13:31:10.480614Z",
     "start_time": "2021-03-28T13:31:10.474332Z"
    }
   },
   "outputs": [],
   "source": [
    "# define a cube vertices and edges\n",
    "vertices = np.array([[1, 1, 1], [1, 1, -1], [1, -1, 1], [1, -1, -1],\n",
    "    [-1, 1, 1], [-1, 1, -1], [-1, -1, 1], [-1, -1, -1]])\n",
    "vertices = np.array(vertices)\n",
    "edges = []\n",
    "\n",
    "for i in range(len(vertices)):\n",
    "    edges.extend([[i, r] for r in range(i+1, len(vertices)) if np.sqrt(((vertices[i]-vertices[r])**2).sum())==L])"
   ]
  },
  {
   "cell_type": "code",
   "execution_count": 25,
   "id": "provincial-leadership",
   "metadata": {
    "ExecuteTime": {
     "end_time": "2021-03-28T13:31:11.005618Z",
     "start_time": "2021-03-28T13:31:10.831634Z"
    },
    "scrolled": false
   },
   "outputs": [
    {
     "data": {
      "image/png": "[encoded data removed]",
      "text/plain": [
       "<Figure size 432x288 with 1 Axes>"
      ]
     },
     "metadata": {
      "needs_background": "light"
     },
     "output_type": "display_data"
    }
   ],
   "source": [
    "show_3d(vertices, edges)"
   ]
  },
  {
   "cell_type": "code",
   "execution_count": 26,
   "id": "cultural-terror",
   "metadata": {
    "ExecuteTime": {
     "end_time": "2021-03-28T13:31:11.596661Z",
     "start_time": "2021-03-28T13:31:11.591872Z"
    }
   },
   "outputs": [],
   "source": [
    "ext_v = np.array(list(map(lambda y: np.dot(get_extrinsic_matrix(camera_position, camera_orientation, u), y), to_homogenous(vertices))))"
   ]
  },
  {
   "cell_type": "code",
   "execution_count": 27,
   "id": "continental-celebration",
   "metadata": {
    "ExecuteTime": {
     "end_time": "2021-03-28T13:31:13.473837Z",
     "start_time": "2021-03-28T13:31:13.468127Z"
    }
   },
   "outputs": [],
   "source": [
    "repl_V = calc_v(vertices, camera_position, camera_orientation, u, f, s)\n",
    "reduc_V = from_homogenous(repl_V)"
   ]
  },
  {
   "cell_type": "markdown",
   "id": "major-effects",
   "metadata": {},
   "source": [
    "### Visualization 3D"
   ]
  },
  {
   "cell_type": "code",
   "execution_count": 28,
   "id": "tight-oklahoma",
   "metadata": {
    "ExecuteTime": {
     "end_time": "2021-03-28T13:31:15.882362Z",
     "start_time": "2021-03-28T13:31:15.738230Z"
    }
   },
   "outputs": [
    {
     "data": {
      "image/png": "[encoded data removed]",
      "text/plain": [
       "<Figure size 432x288 with 1 Axes>"
      ]
     },
     "metadata": {
      "needs_background": "light"
     },
     "output_type": "display_data"
    }
   ],
   "source": [
    "show_3d(ext_v, edges)"
   ]
  },
  {
   "cell_type": "markdown",
   "id": "induced-growing",
   "metadata": {},
   "source": [
    "### Visualization 2D"
   ]
  },
  {
   "cell_type": "code",
   "execution_count": 29,
   "id": "sufficient-arnold",
   "metadata": {
    "ExecuteTime": {
     "end_time": "2021-03-28T13:31:17.402959Z",
     "start_time": "2021-03-28T13:31:17.257617Z"
    },
    "scrolled": false
   },
   "outputs": [
    {
     "data": {
      "image/png": "[encoded data removed]",
      "text/plain": [
       "<Figure size 432x288 with 1 Axes>"
      ]
     },
     "metadata": {
      "needs_background": "light"
     },
     "output_type": "display_data"
    }
   ],
   "source": [
    "show_2d(reduc_V*200, edges, (200, 200))"
   ]
  },
  {
   "cell_type": "markdown",
   "id": "located-elephant",
   "metadata": {},
   "source": [
    "# Bonus (20 points)\n",
    "\n",
    "Insert code that shows an open tube of similar proportions [you will of course not be able to show the “round” tube with this code – so approximate the round base of the tube with a few lines]!"
   ]
  },
  {
   "cell_type": "code",
   "execution_count": 11,
   "id": "judicial-principle",
   "metadata": {
    "ExecuteTime": {
     "end_time": "2021-03-28T13:21:15.377268Z",
     "start_time": "2021-03-28T13:21:15.332363Z"
    }
   },
   "outputs": [],
   "source": [
    "# We import ipywidgets for interactive tools\n",
    "from ipywidgets import IntSlider, interact, FloatSlider\n",
    "\n",
    "def draw_3d_polygon(n: int, r: float, h: float):\n",
    "    \"\"\"\n",
    "    Draw a polygon cube\n",
    "    \n",
    "    Argument\n",
    "    --------\n",
    "    n: the number of vertices (float)\n",
    "    r: radius (float)\n",
    "    h: a height of a polygon cube (float)\n",
    "    \n",
    "    \"\"\"\n",
    "    center_degree = 360 / n\n",
    "    \n",
    "    vertices1 = np.array([(r * sin((center_degree * i) * np.pi / 180), h, r * cos((center_degree * i) * np.pi / 180)) for i in range(n)])\n",
    "    vertices2 = np.array([(r * sin((center_degree * i) * np.pi / 180), -h, r * cos((center_degree * i) * np.pi / 180)) for i in range(n)])\n",
    "\n",
    "    edges = [[i,i+1] for i in range(n)]\n",
    "    edges[-1][1] = 0\n",
    "    \n",
    "    fig = plt.figure(figsize=(10,10))\n",
    "    ax = fig.gca(projection='3d') \n",
    "    for edge in edges:\n",
    "        p1 = vertices1[edge[0]] \n",
    "        p2 = vertices1[edge[1]]\n",
    "        \n",
    "        p3 = vertices2[edge[0]] \n",
    "        p4 = vertices2[edge[1]]\n",
    "        \n",
    "        ax.plot([p1[0], p2[0]],\n",
    "                [p1[1], p2[1]],\n",
    "                [p1[2], p2[2]], color='brown') \n",
    "        \n",
    "        ax.plot([p3[0], p4[0]],\n",
    "                [p3[1], p4[1]],\n",
    "                [p3[2], p4[2]], color='brown')\n",
    "    \n",
    "        ax.plot([p1[0], p3[0]],\n",
    "                [p1[1], p3[1]],\n",
    "                [p1[2], p3[2]], color='brown') \n",
    "            \n",
    "    ax.set_ylim(-5, 5)\n",
    "    ax.set_xlim(-5, 5) \n",
    "    ax.set_zlim(-5, 5) \n",
    "    ax.set_ylabel('y')\n",
    "    ax.set_xlabel('x')\n",
    "    ax.set_zlabel('z')"
   ]
  },
  {
   "cell_type": "code",
   "execution_count": 12,
   "id": "mature-speaking",
   "metadata": {
    "ExecuteTime": {
     "end_time": "2021-03-28T13:21:17.288726Z",
     "start_time": "2021-03-28T13:21:17.060416Z"
    }
   },
   "outputs": [
    {
     "data": {
      "application/vnd.jupyter.widget-view+json": {
       "model_id": "702a2c4f5f1b44a6afd5c255e1e95839",
       "version_major": 2,
       "version_minor": 0
      },
      "text/plain": [
       "interactive(children=(IntSlider(value=3, description='n', min=3), FloatSlider(value=1.0, description='r', max=…"
      ]
     },
     "metadata": {},
     "output_type": "display_data"
    },
    {
     "data": {
      "text/plain": [
       "<function __main__.draw_3d_polygon(n:int, r:float, h:float)>"
      ]
     },
     "execution_count": 12,
     "metadata": {},
     "output_type": "execute_result"
    }
   ],
   "source": [
    "%matplotlib inline\n",
    "r = FloatSlider(value=1, min=1, max=10, step=0.1)\n",
    "h = FloatSlider(value=1, min=1, max=10, step=0.1)\n",
    "n = IntSlider(value=3, min=3, max=100, step=1)\n",
    "interact(draw_3d_polygon, n=n, h=h, r=r)"
   ]
  },
  {
   "cell_type": "markdown",
   "id": "guided-speaking",
   "metadata": {},
   "source": [
    "---"
   ]
  }
 ],
 "metadata": {
  "hide_input": false,
  "kernelspec": {
   "display_name": "Python 3",
   "language": "python",
   "name": "python3"
  },
  "language_info": {
   "codemirror_mode": {
    "name": "ipython",
    "version": 3
   },
   "file_extension": ".py",
   "mimetype": "text/x-python",
   "name": "python",
   "nbconvert_exporter": "python",
   "pygments_lexer": "ipython3",
   "version": "3.6.9"
  },
  "toc": {
   "base_numbering": 1,
   "nav_menu": {},
   "number_sections": true,
   "sideBar": true,
   "skip_h1_title": false,
   "title_cell": "Table of Contents",
   "title_sidebar": "Contents",
   "toc_cell": false,
   "toc_position": {},
   "toc_section_display": true,
   "toc_window_display": false
  },
  "varInspector": {
   "cols": {
    "lenName": 16,
    "lenType": 16,
    "lenVar": 40
   },
   "kernels_config": {
    "python": {
     "delete_cmd_postfix": "",
     "delete_cmd_prefix": "del ",
     "library": "var_list.py",
     "varRefreshCmd": "print(var_dic_list())"
    },
    "r": {
     "delete_cmd_postfix": ") ",
     "delete_cmd_prefix": "rm(",
     "library": "var_list.r",
     "varRefreshCmd": "cat(var_dic_list()) "
    }
   },
   "types_to_exclude": [
    "module",
    "function",
    "builtin_function_or_method",
    "instance",
    "_Feature"
   ],
   "window_display": false
  }
 },
 "nbformat": 4,
 "nbformat_minor": 5
}
