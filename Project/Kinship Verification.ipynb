{
 "cells": [
  {
   "cell_type": "code",
   "execution_count": 101,
   "id": "c806b827",
   "metadata": {},
   "outputs": [],
   "source": [
    "import pandas as pd\n",
    "import numpy as np\n",
    "import os\n",
    "import random\n",
    "import sys\n",
    "import json\n",
    "import matplotlib.pyplot as plt\n",
    "\n",
    "from glob import glob\n",
    "from itertools import product\n",
    "\n",
    "from tqdm.auto import tqdm\n",
    "\n",
    "from PIL import Image\n",
    "\n",
    "import ipywidgets\n",
    "\n",
    "import torch\n",
    "import torch.nn as nn\n",
    "import torch.nn.functional as F\n",
    "import torchvision.transforms as transforms"
   ]
  },
  {
   "cell_type": "markdown",
   "id": "09fbdd10",
   "metadata": {},
   "source": [
    "# Configuration"
   ]
  },
  {
   "cell_type": "code",
   "execution_count": 2,
   "id": "e5d37951",
   "metadata": {},
   "outputs": [],
   "source": [
    "class Config:\n",
    "    seed = 223 # it's my birthday\n",
    "    gpu = 0 \n",
    "    \n",
    "    val_ratio = 0.3\n",
    "    batch_size = 24\n",
    "    epochs = 5\n",
    "    \n",
    "    lr = 0.001\n",
    "    \n",
    "config = Config()"
   ]
  },
  {
   "cell_type": "code",
   "execution_count": 3,
   "id": "1c3a6795",
   "metadata": {},
   "outputs": [],
   "source": [
    "device = f'cuda:{config.gpu}' if torch.cuda.is_available() else 'cpu'"
   ]
  },
  {
   "cell_type": "code",
   "execution_count": 4,
   "id": "c51289f6",
   "metadata": {},
   "outputs": [],
   "source": [
    "def torch_seed(random_seed: int = 223):\n",
    "    \"\"\"\n",
    "    set deterministic seed\n",
    "\n",
    "    Argument\n",
    "    --------\n",
    "    - random_seed : random seed number, default 223 is my birth day. haha\n",
    "\n",
    "    \"\"\"\n",
    "    torch.manual_seed(random_seed)\n",
    "    torch.cuda.manual_seed(random_seed)\n",
    "    torch.cuda.manual_seed_all(random_seed) # if use multi-GPU\n",
    "    torch.backends.cudnn.deterministic = True\n",
    "    torch.backends.cudnn.benchmark = False\n",
    "    np.random.seed(random_seed)\n",
    "    random.seed(random_seed)\n",
    "    os.environ['PYTHONHASHSEED'] = str(random_seed)"
   ]
  },
  {
   "cell_type": "markdown",
   "id": "4444767f",
   "metadata": {},
   "source": [
    "# Load Data"
   ]
  },
  {
   "cell_type": "code",
   "execution_count": 5,
   "id": "7ff64e82",
   "metadata": {},
   "outputs": [],
   "source": [
    "train_info = pd.read_csv('../data/FIW/train-pairs.csv')"
   ]
  },
  {
   "cell_type": "code",
   "execution_count": 6,
   "id": "73c836d3",
   "metadata": {},
   "outputs": [
    {
     "data": {
      "application/vnd.jupyter.widget-view+json": {
       "model_id": "83cb8d7419c04058af7ca04570bf0f7d",
       "version_major": 2,
       "version_minor": 0
      },
      "text/plain": [
       "HBox(children=(FloatProgress(value=0.0, max=6983.0), HTML(value='')))"
      ]
     },
     "metadata": {},
     "output_type": "display_data"
    },
    {
     "name": "stdout",
     "output_type": "stream",
     "text": [
      "\n"
     ]
    }
   ],
   "source": [
    "img_path = []\n",
    "\n",
    "for i in tqdm(range(len(train_info))):\n",
    "    # image path\n",
    "    p1_path = glob(f'../data/FIW/train-faces/{train_info.p1.tolist()[i]}/*.jpg')\n",
    "    p2_path = glob(f'../data/FIW/train-faces/{train_info.p2.tolist()[i]}/*.jpg')\n",
    "    img_path.extend(list(product(p1_path, p2_path)))"
   ]
  },
  {
   "cell_type": "code",
   "execution_count": 7,
   "id": "cfdbe5ea",
   "metadata": {},
   "outputs": [],
   "source": [
    "img_path = pd.DataFrame(img_path, columns=['p1','p2'])"
   ]
  },
  {
   "cell_type": "markdown",
   "id": "4cb983fa",
   "metadata": {},
   "source": [
    "## Split Train and Validation Set"
   ]
  },
  {
   "cell_type": "code",
   "execution_count": 8,
   "id": "16a74db3",
   "metadata": {},
   "outputs": [],
   "source": [
    "# random shuffle\n",
    "torch_seed(config.seed)\n",
    "val_path = img_path.sample(frac=config.val_ratio)\n",
    "train_path = img_path.drop(val_path.index, axis=0)"
   ]
  },
  {
   "cell_type": "markdown",
   "id": "ede806dd",
   "metadata": {},
   "source": [
    "## Build Dataset and DataLoader"
   ]
  },
  {
   "cell_type": "code",
   "execution_count": 9,
   "id": "6b49b0da",
   "metadata": {},
   "outputs": [],
   "source": [
    "class KinshipDataset(torch.utils.data.Dataset):\n",
    "    def __init__(self, img_path, transform):\n",
    "        self.p1 = img_path['p1'].tolist()\n",
    "        self.p2 = img_path['p2'].tolist()\n",
    "        self.transform = transform\n",
    "        \n",
    "    def __len__(self):\n",
    "        return len(self.p1)\n",
    "    \n",
    "    def __getitem__(self, idx):\n",
    "        \n",
    "        # anchor, positive, and negative image path\n",
    "        anchor_path = self.p1[idx]\n",
    "        anchor_fam = anchor_path.split('/')[-2]\n",
    "        \n",
    "        positive_path = self.p2[idx]\n",
    "    \n",
    "        negative_fam = anchor_fam\n",
    "        while anchor_fam == negative_fam:\n",
    "            negative_path = np.random.choice(self.p2, size=1)[0]\n",
    "            negative_fam = negative_path.split('/')[-2]\n",
    "            \n",
    "        # load images and convert RGB to grayscale\n",
    "        anchor = Image.open(anchor_path).convert(\"L\")\n",
    "        positive = Image.open(positive_path).convert(\"L\")\n",
    "        negative = Image.open(negative_path).convert(\"L\")\n",
    "            \n",
    "        # transform\n",
    "        anchor = self.transform(anchor)\n",
    "        positive = self.transform(positive)\n",
    "        negative = self.transform(negative)\n",
    "        \n",
    "        return anchor, positive, negative"
   ]
  },
  {
   "cell_type": "code",
   "execution_count": 10,
   "id": "f935ce2b",
   "metadata": {},
   "outputs": [],
   "source": [
    "transform = transforms.Compose([\n",
    "    transforms.Resize((124,124)),\n",
    "    transforms.ToTensor(),\n",
    "])"
   ]
  },
  {
   "cell_type": "code",
   "execution_count": 11,
   "id": "f7bea296",
   "metadata": {},
   "outputs": [],
   "source": [
    "trainset = KinshipDataset(img_path=train_path, transform=transform)\n",
    "valset = KinshipDataset(img_path=val_path, transform=transform)"
   ]
  },
  {
   "cell_type": "code",
   "execution_count": 12,
   "id": "8c536d15",
   "metadata": {},
   "outputs": [],
   "source": [
    "trainloader = torch.utils.data.DataLoader(trainset,\n",
    "                                          batch_size=config.batch_size,\n",
    "                                          shuffle=True,\n",
    "                                          num_workers=8)\n",
    "valloader = torch.utils.data.DataLoader(valset,\n",
    "                                        batch_size=config.batch_size,\n",
    "                                        shuffle=False,\n",
    "                                        num_workers=8)"
   ]
  },
  {
   "cell_type": "markdown",
   "id": "783a0f24",
   "metadata": {},
   "source": [
    "# ResNet\n",
    "\n",
    "- ResNet code source : https://github.com/kuangliu/pytorch-cifar/blob/master/models/resnet.py\n",
    "- Paper : Kaiming He, Xiangyu Zhang, Shaoqing Ren, Jian Sun, Deep Residual Learning for Image Recognition. arXiv:1512.03385"
   ]
  },
  {
   "cell_type": "code",
   "execution_count": 13,
   "id": "b175f001",
   "metadata": {},
   "outputs": [],
   "source": [
    "class BasicBlock(nn.Module):\n",
    "    expansion = 1\n",
    "\n",
    "    def __init__(self, in_planes, planes, stride=1):\n",
    "        super(BasicBlock, self).__init__()\n",
    "        self.conv1 = nn.Conv2d(in_planes, planes, kernel_size=3, stride=stride, padding=1, bias=False)\n",
    "        self.bn1 = nn.BatchNorm2d(planes)\n",
    "        self.conv2 = nn.Conv2d(planes, planes, kernel_size=3, stride=1, padding=1, bias=False)\n",
    "        self.bn2 = nn.BatchNorm2d(planes)\n",
    "\n",
    "        self.shortcut = nn.Sequential()\n",
    "        if stride != 1 or in_planes != self.expansion*planes:\n",
    "            self.shortcut = nn.Sequential(\n",
    "                nn.Conv2d(in_planes, self.expansion*planes, kernel_size=1, stride=stride, bias=False),\n",
    "                nn.BatchNorm2d(self.expansion*planes)\n",
    "            )\n",
    "\n",
    "    def forward(self, x):\n",
    "        out = F.relu(self.bn1(self.conv1(x)))\n",
    "        out = self.bn2(self.conv2(out))\n",
    "        out += self.shortcut(x)\n",
    "        out = F.relu(out)\n",
    "        return out\n",
    "\n",
    "\n",
    "class Bottleneck(nn.Module):\n",
    "    expansion = 4\n",
    "\n",
    "    def __init__(self, in_planes, planes, stride=1):\n",
    "        super(Bottleneck, self).__init__()\n",
    "        self.conv1 = nn.Conv2d(in_planes, planes, kernel_size=1, bias=False)\n",
    "        self.bn1 = nn.BatchNorm2d(planes)\n",
    "        self.conv2 = nn.Conv2d(planes, planes, kernel_size=3, stride=stride, padding=1, bias=False)\n",
    "        self.bn2 = nn.BatchNorm2d(planes)\n",
    "        self.conv3 = nn.Conv2d(planes, self.expansion * planes, kernel_size=1, bias=False)\n",
    "        self.bn3 = nn.BatchNorm2d(self.expansion*planes)\n",
    "\n",
    "        self.shortcut = nn.Sequential()\n",
    "        if stride != 1 or in_planes != self.expansion*planes:\n",
    "            self.shortcut = nn.Sequential(\n",
    "                nn.Conv2d(in_planes, self.expansion*planes, kernel_size=1, stride=stride, bias=False),\n",
    "                nn.BatchNorm2d(self.expansion*planes)\n",
    "            )\n",
    "\n",
    "    def forward(self, x):\n",
    "        out = F.relu(self.bn1(self.conv1(x)))\n",
    "        out = F.relu(self.bn2(self.conv2(out)))\n",
    "        out = self.bn3(self.conv3(out))\n",
    "        out += self.shortcut(x)\n",
    "        out = F.relu(out)\n",
    "        return out\n",
    "\n",
    "\n",
    "class ResNet(nn.Module):\n",
    "    def __init__(self, block, num_blocks):\n",
    "        super(ResNet, self).__init__()\n",
    "        self.in_planes = 64\n",
    "\n",
    "        self.conv1 = nn.Conv2d(1, 64, kernel_size=3, stride=1, padding=1, bias=False) # grayscale\n",
    "        self.bn1 = nn.BatchNorm2d(64)\n",
    "        self.layer1 = self._make_layer(block, 64, num_blocks[0], stride=1)\n",
    "        self.layer2 = self._make_layer(block, 128, num_blocks[1], stride=2)\n",
    "        self.layer3 = self._make_layer(block, 256, num_blocks[2], stride=2)\n",
    "        self.layer4 = self._make_layer(block, 512, num_blocks[3], stride=2)\n",
    "\n",
    "    def _make_layer(self, block, planes, num_blocks, stride):\n",
    "        strides = [stride] + [1]*(num_blocks-1)\n",
    "        layers = []\n",
    "        for stride in strides:\n",
    "            layers.append(block(self.in_planes, planes, stride))\n",
    "            self.in_planes = planes * block.expansion\n",
    "        return nn.Sequential(*layers)\n",
    "\n",
    "    def forward(self, x):\n",
    "        out = F.relu(self.bn1(self.conv1(x)))\n",
    "        out = self.layer1(out)\n",
    "        out = self.layer2(out)\n",
    "        out = self.layer3(out)\n",
    "        out = self.layer4(out)\n",
    "        out = out.mean(axis=1) # GAP\n",
    "        out = out.view(out.size(0), -1)\n",
    "        return out\n",
    "    \n",
    "def ResNet18Kinship():\n",
    "    return ResNet(BasicBlock, [2, 2, 2, 2])"
   ]
  },
  {
   "cell_type": "code",
   "execution_count": 14,
   "id": "b2d1801b",
   "metadata": {},
   "outputs": [],
   "source": [
    "model = ResNet18Kinship().to(device)"
   ]
  },
  {
   "cell_type": "markdown",
   "id": "aa98588e",
   "metadata": {},
   "source": [
    "# Train"
   ]
  },
  {
   "cell_type": "code",
   "execution_count": 15,
   "id": "ee698f1c",
   "metadata": {},
   "outputs": [],
   "source": [
    "optimizer = torch.optim.Adam(model.parameters(), lr=config.lr)\n",
    "criterion = nn.TripletMarginLoss()"
   ]
  },
  {
   "cell_type": "code",
   "execution_count": 16,
   "id": "5303cd74",
   "metadata": {},
   "outputs": [],
   "source": [
    "def train(model, trainloader, optimizer, criterion, device):\n",
    "    total_loss = 0\n",
    "    for batch_idx, (anchors, positives, negatives) in enumerate(trainloader):\n",
    "        # inputs and targets\n",
    "        anchors, positives, negatives = anchors.to(device), positives.to(device), negatives.to(device)\n",
    "        \n",
    "        # model output\n",
    "        anchors_output = model(anchors.to(device))\n",
    "        positives_output = model(positives.to(device))\n",
    "        negatives_output = model(negatives.to(device))\n",
    "        \n",
    "        # loss and update\n",
    "        optimizer.zero_grad()\n",
    "        loss = criterion(anchors_output, positives_output, negatives_output)\n",
    "        loss.backward()\n",
    "        optimizer.step()\n",
    "        \n",
    "        # history\n",
    "        total_loss += loss.item()\n",
    "\n",
    "        if batch_idx == len(trainloader)-1:\n",
    "            print()\n",
    "        else:\n",
    "            sys.stdout.write(f'\\rStep [{batch_idx+1}/{len(trainloader)}] Loss: {total_loss/(batch_idx+1):.4f}')\n",
    "        \n",
    "    return total_loss / len(trainloader)\n",
    "\n",
    "def test(model, testloader, criterion, device):\n",
    "    total_loss = 0\n",
    "    with torch.no_grad():\n",
    "        for batch_idx, (anchors, positives, negatives) in enumerate(testloader):\n",
    "            # inputs and targets\n",
    "            anchors, positives, negatives = anchors.to(device), positives.to(device), negatives.to(device)\n",
    "            \n",
    "\n",
    "            # model output\n",
    "            anchors_output = model(anchors.to(device))\n",
    "            positives_output = model(positives.to(device))\n",
    "            negatives_output = model(negatives.to(device))\n",
    "\n",
    "            # loss\n",
    "            loss = criterion(anchors_output, positives_output, negatives_output)\n",
    "\n",
    "            # history\n",
    "            total_loss += loss.item()\n",
    "\n",
    "            if batch_idx == len(testloader)-1:\n",
    "                print()\n",
    "            else:\n",
    "                sys.stdout.write(f'\\rStep [{batch_idx+1}/{len(testloader)}] Loss: {total_loss/(batch_idx+1):.4f}')\n",
    "        \n",
    "    return total_loss / len(testloader)\n",
    "\n",
    "class CheckPoint:\n",
    "    def __init__(self, savedir):\n",
    "        self.best_loss = 9999\n",
    "        if not os.path.isdir(savedir):\n",
    "            os.makedirs(savedir)\n",
    "    \n",
    "    def step(self, model, loss):        \n",
    "        if loss < self.best_loss:    \n",
    "            # print\n",
    "            print(f'Model Save : Best Loss {self.best_loss:.4f} -> {loss:.4f}')\n",
    "            \n",
    "            state = {\n",
    "                'net': model.state_dict(),\n",
    "                'loss': loss,\n",
    "                'epoch': 1,\n",
    "            }\n",
    "\n",
    "            torch.save(state, f'../checkpoint/FIW_{loss:.4f}.pth')\n",
    "        \n",
    "            self.best_loss = loss            "
   ]
  },
  {
   "cell_type": "code",
   "execution_count": 17,
   "id": "94a456a2",
   "metadata": {},
   "outputs": [
    {
     "name": "stdout",
     "output_type": "stream",
     "text": [
      "\n",
      "Epochs [1/5]\n",
      "Step [7715/7716] Loss: 0.8703\n",
      "Step [3306/3307] Loss: 0.8906\n",
      "Model Save : Best Loss 9999.0000 -> 0.8907\n",
      "\n",
      "Epochs [2/5]\n",
      "Step [7715/7716] Loss: 0.8153\n",
      "Step [3118/7716] Loss: 0.8216"
     ]
    },
    {
     "name": "stderr",
     "output_type": "stream",
     "text": [
      "IOPub message rate exceeded.\n",
      "The notebook server will temporarily stop sending output\n",
      "to the client in order to avoid crashing it.\n",
      "To change this limit, set the config variable\n",
      "`--NotebookApp.iopub_msg_rate_limit`.\n",
      "\n",
      "Current values:\n",
      "NotebookApp.iopub_msg_rate_limit=1000.0 (msgs/sec)\n",
      "NotebookApp.rate_limit_window=3.0 (secs)\n",
      "\n"
     ]
    },
    {
     "name": "stdout",
     "output_type": "stream",
     "text": [
      "Step [5146/7716] Loss: 0.8299"
     ]
    },
    {
     "name": "stderr",
     "output_type": "stream",
     "text": [
      "IOPub message rate exceeded.\n",
      "The notebook server will temporarily stop sending output\n",
      "to the client in order to avoid crashing it.\n",
      "To change this limit, set the config variable\n",
      "`--NotebookApp.iopub_msg_rate_limit`.\n",
      "\n",
      "Current values:\n",
      "NotebookApp.iopub_msg_rate_limit=1000.0 (msgs/sec)\n",
      "NotebookApp.rate_limit_window=3.0 (secs)\n",
      "\n"
     ]
    },
    {
     "name": "stdout",
     "output_type": "stream",
     "text": [
      "Step [7344/7716] Loss: 0.8061"
     ]
    },
    {
     "name": "stderr",
     "output_type": "stream",
     "text": [
      "IOPub message rate exceeded.\n",
      "The notebook server will temporarily stop sending output\n",
      "to the client in order to avoid crashing it.\n",
      "To change this limit, set the config variable\n",
      "`--NotebookApp.iopub_msg_rate_limit`.\n",
      "\n",
      "Current values:\n",
      "NotebookApp.iopub_msg_rate_limit=1000.0 (msgs/sec)\n",
      "NotebookApp.rate_limit_window=3.0 (secs)\n",
      "\n"
     ]
    }
   ],
   "source": [
    "torch_seed(config.seed)\n",
    "\n",
    "checkpoint = CheckPoint(savedir='../checkpoint')\n",
    "\n",
    "train_loss_list = []\n",
    "val_loss_list = []\n",
    "for epoch in range(config.epochs):\n",
    "    print(f'\\nEpochs [{epoch+1}/{config.epochs}]')\n",
    "    train_loss = train(model, trainloader, optimizer, criterion, device)\n",
    "    val_loss = test(model, valloader, optimizer, criterion, device)\n",
    "    \n",
    "    # history\n",
    "    train_loss_list.append(train_loss)\n",
    "    val_loss_list.append(val_loss)\n",
    "    \n",
    "    # checkpoint\n",
    "    checkpoint.step(model, val_loss)\n",
    "    \n",
    "# save history\n",
    "history = {}\n",
    "history['train_loss'] = train_loss_list\n",
    "history['val_loss'] = val_loss_list\n",
    "json.dump(history, open('../checkpoint/history.json','w'), indent=4)"
   ]
  },
  {
   "cell_type": "code",
   "execution_count": 109,
   "id": "31beb361",
   "metadata": {},
   "outputs": [
    {
     "data": {
      "text/plain": [
       "Text(0.5, 0, 'Epochs')"
      ]
     },
     "execution_count": 109,
     "metadata": {},
     "output_type": "execute_result"
    },
    {
     "data": {
      "image/png": "[encoded data removed]",
      "text/plain": [
       "<Figure size 432x288 with 1 Axes>"
      ]
     },
     "metadata": {
      "needs_background": "light"
     },
     "output_type": "display_data"
    }
   ],
   "source": [
    "history = json.load(open('../checkpoint/history.json','r'))\n",
    "plt.plot(range(len(history['train_loss'])), history['train_loss'])\n",
    "plt.plot(range(len(history['val_loss'])), history['val_loss'])\n",
    "plt.legend(['Train','Validation'], loc='upper right')\n",
    "plt.ylabel('Loss', size=15)\n",
    "plt.xlabel('Epochs', size=15)"
   ]
  },
  {
   "cell_type": "code",
   "execution_count": 22,
   "id": "95dce4c7",
   "metadata": {},
   "outputs": [
    {
     "name": "stdout",
     "output_type": "stream",
     "text": [
      "Load pretrained model\n"
     ]
    }
   ],
   "source": [
    "weights = torch.load('../checkpoint/FIW_0.8150685578584671.pth')\n",
    "\n",
    "model = ResNet18Kinship().to(device)\n",
    "model.state_dict(weights['net'])\n",
    "model.eval()\n",
    "\n",
    "print('Load pretrained model')"
   ]
  },
  {
   "cell_type": "code",
   "execution_count": 87,
   "id": "852c7e0e",
   "metadata": {},
   "outputs": [],
   "source": [
    "train_datadir = '../data/FIW/train-faces'\n",
    "\n",
    "family_list = os.listdir(train_datadir)\n",
    "family_dropdown = ipywidgets.Dropdown(options=family_list)\n",
    "\n",
    "member_list = os.listdir(os.path.join(train_datadir, family_dropdown.value))\n",
    "member_list = [m for m in member_list if 'MID' in m]\n",
    "member_dropdown = ipywidgets.Dropdown(options=member_list)\n",
    "\n",
    "member_i_list = os.listdir(os.path.join(train_datadir, family_dropdown.value, member_dropdown.value))\n",
    "member_i_dropdown = ipywidgets.Dropdown(options=member_i_list)\n",
    "\n",
    "def family_change(change):\n",
    "    member_list = os.listdir(os.path.join(train_datadir, change.new))\n",
    "    member_list = [m for m in member_list if 'MID' in m]\n",
    "    member_dropdown.options = member_list\n",
    "    \n",
    "def member_change(change):\n",
    "    member_i_dropdown.options = os.listdir(os.path.join(train_datadir, family_dropdown.value, change.new))\n",
    "                                     \n",
    "family_dropdown.observe(family_change, names='value')\n",
    "member_dropdown.observe(member_change, names='value')"
   ]
  },
  {
   "cell_type": "code",
   "execution_count": 88,
   "id": "05deaa99",
   "metadata": {},
   "outputs": [],
   "source": [
    "def plot_img(family, member, member_i):\n",
    "    img = Image.open(f'../data/FIW/train-faces/{family}/{member}/{member_i}')\n",
    "    plt.imshow(img)"
   ]
  },
  {
   "cell_type": "code",
   "execution_count": 89,
   "id": "3abec522",
   "metadata": {
    "scrolled": false
   },
   "outputs": [
    {
     "data": {
      "application/vnd.jupyter.widget-view+json": {
       "model_id": "0ea7c949ef0e4b5e8c19803dedfdf538",
       "version_major": 2,
       "version_minor": 0
      },
      "text/plain": [
       "interactive(children=(Dropdown(description='family', options=('F0774', 'F0288', 'F0612', 'F0389', 'F0942', 'F0…"
      ]
     },
     "metadata": {},
     "output_type": "display_data"
    }
   ],
   "source": [
    "ipywidgets.interactive(plot_img, \n",
    "                       family=family_dropdown,\n",
    "                       member=member_dropdown,\n",
    "                       member_i=member_i_dropdown)"
   ]
  },
  {
   "cell_type": "code",
   "execution_count": 202,
   "id": "052a9398",
   "metadata": {},
   "outputs": [],
   "source": [
    "class KinshipInferDataset(torch.utils.data.Dataset):\n",
    "    def __init__(self, img_path, transform):\n",
    "        self.p = img_path\n",
    "        self.transform = transform\n",
    "        \n",
    "    def __len__(self):\n",
    "        return len(self.p1)\n",
    "    \n",
    "    def __getitem__(self, idx):\n",
    "        \n",
    "        # anchor image path\n",
    "        anchor_path = self.p1[idx]\n",
    "        \n",
    "        # load images and convert RGB to grayscale\n",
    "        anchor = Image.open(anchor_path).convert(\"L\")\n",
    "            \n",
    "        # transform\n",
    "        anchor = self.transform(anchor)\n",
    "        \n",
    "        return anchor"
   ]
  },
  {
   "cell_type": "code",
   "execution_count": 200,
   "id": "06b4cda3",
   "metadata": {},
   "outputs": [],
   "source": [
    "val_imgs_path = list(set(val_path['p1'].tolist() + val_path['p2'].tolist()))\n",
    "val_imgs_path.sort()"
   ]
  },
  {
   "cell_type": "code",
   "execution_count": null,
   "id": "a7ef733f",
   "metadata": {},
   "outputs": [],
   "source": [
    "val_imgs"
   ]
  },
  {
   "cell_type": "code",
   "execution_count": 183,
   "id": "ffb5fcdd",
   "metadata": {},
   "outputs": [],
   "source": [
    "def inference(model, testloader, device):\n",
    "    p1_embed_list = []\n",
    "    p2_embed_list = []\n",
    "    with torch.no_grad():\n",
    "        for batch_idx, (anchors, positives, _) in enumerate(tqdm(testloader, desc='Inference')):\n",
    "            # inputs and targets\n",
    "            anchors, positives = anchors.to(device), positives.to(device)\n",
    "            \n",
    "            # model output\n",
    "            anchors_output = model(anchors.to(device))\n",
    "            positives_output = model(positives.to(device))\n",
    "            \n",
    "            # distance\n",
    "            p1_embed_list.append(anchors_output.cpu().numpy())\n",
    "            p2_embed_list.append(positives_output.cpu().numpy())\n",
    "            \n",
    "    p1_embed = np.vstack(p1_embed_list)\n",
    "    p2_embed = np.vstack(p2_embed_list)\n",
    "    return p1_embed, p2_embed"
   ]
  },
  {
   "cell_type": "code",
   "execution_count": 184,
   "id": "8938515a",
   "metadata": {
    "scrolled": true
   },
   "outputs": [
    {
     "data": {
      "application/vnd.jupyter.widget-view+json": {
       "model_id": "2fbf76c8d8e74c7fb446c873247c2ed3",
       "version_major": 2,
       "version_minor": 0
      },
      "text/plain": [
       "HBox(children=(FloatProgress(value=0.0, description='Inference', max=3307.0, style=ProgressStyle(description_w…"
      ]
     },
     "metadata": {},
     "output_type": "display_data"
    },
    {
     "name": "stdout",
     "output_type": "stream",
     "text": [
      "\n"
     ]
    }
   ],
   "source": [
    "p1_embed, p2_embed = inference(model, valloader, device)"
   ]
  },
  {
   "cell_type": "code",
   "execution_count": 206,
   "id": "17445b73",
   "metadata": {},
   "outputs": [
    {
     "data": {
      "text/plain": [
       "0.013598985734122309"
      ]
     },
     "execution_count": 206,
     "metadata": {},
     "output_type": "execute_result"
    }
   ],
   "source": [
    "val_path.groupby('p1_fam').dist.mean().mean()"
   ]
  },
  {
   "cell_type": "code",
   "execution_count": 207,
   "id": "72b9fb93",
   "metadata": {},
   "outputs": [
    {
     "data": {
      "text/plain": [
       "0.003194882279881789"
      ]
     },
     "execution_count": 207,
     "metadata": {},
     "output_type": "execute_result"
    }
   ],
   "source": [
    "val_path.groupby('p1_fam').dist.mean().std()"
   ]
  },
  {
   "cell_type": "code",
   "execution_count": 209,
   "id": "61bafebe",
   "metadata": {},
   "outputs": [
    {
     "data": {
      "text/html": [
       "<div>\n",
       "<style scoped>\n",
       "    .dataframe tbody tr th:only-of-type {\n",
       "        vertical-align: middle;\n",
       "    }\n",
       "\n",
       "    .dataframe tbody tr th {\n",
       "        vertical-align: top;\n",
       "    }\n",
       "\n",
       "    .dataframe thead th {\n",
       "        text-align: right;\n",
       "    }\n",
       "</style>\n",
       "<table border=\"1\" class=\"dataframe\">\n",
       "  <thead>\n",
       "    <tr style=\"text-align: right;\">\n",
       "      <th></th>\n",
       "      <th>p1</th>\n",
       "      <th>p2</th>\n",
       "      <th>ptype</th>\n",
       "      <th>fid1</th>\n",
       "      <th>fid2</th>\n",
       "      <th>tags</th>\n",
       "      <th>set</th>\n",
       "      <th>nsamples</th>\n",
       "    </tr>\n",
       "  </thead>\n",
       "  <tbody>\n",
       "    <tr>\n",
       "      <th>0</th>\n",
       "      <td>F0001/MID1</td>\n",
       "      <td>F0001/MID3</td>\n",
       "      <td>fs</td>\n",
       "      <td>F0001</td>\n",
       "      <td>F0001</td>\n",
       "      <td>0</td>\n",
       "      <td>0</td>\n",
       "      <td>6</td>\n",
       "    </tr>\n",
       "    <tr>\n",
       "      <th>1</th>\n",
       "      <td>F0001/MID1</td>\n",
       "      <td>F0001/MID4</td>\n",
       "      <td>fs</td>\n",
       "      <td>F0001</td>\n",
       "      <td>F0001</td>\n",
       "      <td>0</td>\n",
       "      <td>0</td>\n",
       "      <td>18</td>\n",
       "    </tr>\n",
       "    <tr>\n",
       "      <th>2</th>\n",
       "      <td>F0001/MID2</td>\n",
       "      <td>F0001/MID4</td>\n",
       "      <td>ms</td>\n",
       "      <td>F0001</td>\n",
       "      <td>F0001</td>\n",
       "      <td>0</td>\n",
       "      <td>0</td>\n",
       "      <td>15</td>\n",
       "    </tr>\n",
       "    <tr>\n",
       "      <th>3</th>\n",
       "      <td>F0001/MID2</td>\n",
       "      <td>F0001/MID3</td>\n",
       "      <td>ms</td>\n",
       "      <td>F0001</td>\n",
       "      <td>F0001</td>\n",
       "      <td>0</td>\n",
       "      <td>0</td>\n",
       "      <td>5</td>\n",
       "    </tr>\n",
       "    <tr>\n",
       "      <th>4</th>\n",
       "      <td>F0001/MID3</td>\n",
       "      <td>F0001/MID4</td>\n",
       "      <td>ss</td>\n",
       "      <td>F0001</td>\n",
       "      <td>F0001</td>\n",
       "      <td>0</td>\n",
       "      <td>0</td>\n",
       "      <td>3</td>\n",
       "    </tr>\n",
       "    <tr>\n",
       "      <th>...</th>\n",
       "      <td>...</td>\n",
       "      <td>...</td>\n",
       "      <td>...</td>\n",
       "      <td>...</td>\n",
       "      <td>...</td>\n",
       "      <td>...</td>\n",
       "      <td>...</td>\n",
       "      <td>...</td>\n",
       "    </tr>\n",
       "    <tr>\n",
       "      <th>6978</th>\n",
       "      <td>F1018/MID4</td>\n",
       "      <td>F1018/MID8</td>\n",
       "      <td>bb</td>\n",
       "      <td>F1018</td>\n",
       "      <td>F1018</td>\n",
       "      <td>962</td>\n",
       "      <td>0</td>\n",
       "      <td>100</td>\n",
       "    </tr>\n",
       "    <tr>\n",
       "      <th>6979</th>\n",
       "      <td>F1018/MID4</td>\n",
       "      <td>F1018/MID7</td>\n",
       "      <td>bb</td>\n",
       "      <td>F1018</td>\n",
       "      <td>F1018</td>\n",
       "      <td>962</td>\n",
       "      <td>0</td>\n",
       "      <td>100</td>\n",
       "    </tr>\n",
       "    <tr>\n",
       "      <th>6980</th>\n",
       "      <td>F1018/MID6</td>\n",
       "      <td>F1018/MID1</td>\n",
       "      <td>md</td>\n",
       "      <td>F1018</td>\n",
       "      <td>F1018</td>\n",
       "      <td>962</td>\n",
       "      <td>0</td>\n",
       "      <td>55</td>\n",
       "    </tr>\n",
       "    <tr>\n",
       "      <th>6981</th>\n",
       "      <td>F1018/MID7</td>\n",
       "      <td>F1018/MID8</td>\n",
       "      <td>bb</td>\n",
       "      <td>F1018</td>\n",
       "      <td>F1018</td>\n",
       "      <td>962</td>\n",
       "      <td>0</td>\n",
       "      <td>100</td>\n",
       "    </tr>\n",
       "    <tr>\n",
       "      <th>6982</th>\n",
       "      <td>F1018/MID7</td>\n",
       "      <td>F1018/MID8</td>\n",
       "      <td>ss</td>\n",
       "      <td>F1018</td>\n",
       "      <td>F1018</td>\n",
       "      <td>962</td>\n",
       "      <td>0</td>\n",
       "      <td>100</td>\n",
       "    </tr>\n",
       "  </tbody>\n",
       "</table>\n",
       "<p>6983 rows × 8 columns</p>\n",
       "</div>"
      ],
      "text/plain": [
       "              p1          p2 ptype   fid1   fid2  tags  set  nsamples\n",
       "0     F0001/MID1  F0001/MID3    fs  F0001  F0001     0    0         6\n",
       "1     F0001/MID1  F0001/MID4    fs  F0001  F0001     0    0        18\n",
       "2     F0001/MID2  F0001/MID4    ms  F0001  F0001     0    0        15\n",
       "3     F0001/MID2  F0001/MID3    ms  F0001  F0001     0    0         5\n",
       "4     F0001/MID3  F0001/MID4    ss  F0001  F0001     0    0         3\n",
       "...          ...         ...   ...    ...    ...   ...  ...       ...\n",
       "6978  F1018/MID4  F1018/MID8    bb  F1018  F1018   962    0       100\n",
       "6979  F1018/MID4  F1018/MID7    bb  F1018  F1018   962    0       100\n",
       "6980  F1018/MID6  F1018/MID1    md  F1018  F1018   962    0        55\n",
       "6981  F1018/MID7  F1018/MID8    bb  F1018  F1018   962    0       100\n",
       "6982  F1018/MID7  F1018/MID8    ss  F1018  F1018   962    0       100\n",
       "\n",
       "[6983 rows x 8 columns]"
      ]
     },
     "execution_count": 209,
     "metadata": {},
     "output_type": "execute_result"
    }
   ],
   "source": [
    "train_info"
   ]
  }
 ],
 "metadata": {
  "kernelspec": {
   "display_name": "Python 3",
   "language": "python",
   "name": "python3"
  },
  "language_info": {
   "codemirror_mode": {
    "name": "ipython",
    "version": 3
   },
   "file_extension": ".py",
   "mimetype": "text/x-python",
   "name": "python",
   "nbconvert_exporter": "python",
   "pygments_lexer": "ipython3",
   "version": "3.8.3"
  }
 },
 "nbformat": 4,
 "nbformat_minor": 5
}
