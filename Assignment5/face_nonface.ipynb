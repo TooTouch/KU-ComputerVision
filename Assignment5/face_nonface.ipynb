{
 "cells": [
  {
   "cell_type": "markdown",
   "id": "identified-brown",
   "metadata": {},
   "source": [
    "# Assignment #5"
   ]
  },
  {
   "cell_type": "markdown",
   "id": "laughing-southeast",
   "metadata": {},
   "source": [
    "## PART 1 [60 points] Play with the CNN"
   ]
  },
  {
   "cell_type": "markdown",
   "id": "instant-peripheral",
   "metadata": {},
   "source": [
    "Change the CNN in deepLearning_4.ipynb such that it will classify faces versus non-faces using the uploaded python pickle files. \n",
    "\n",
    "When you submit your assignment DO NOT submit these files, just assume that they live in '../data/'!!!!"
   ]
  },
  {
   "cell_type": "markdown",
   "id": "enclosed-monthly",
   "metadata": {},
   "source": [
    "Play with number of layers and number of filters to find the network architecture that will solve this task with the best accuracy given 10 epochs of training [not more epochs]. \n",
    "\n",
    "Comment your results and tell me about your findings."
   ]
  },
  {
   "cell_type": "markdown",
   "id": "developmental-charlotte",
   "metadata": {},
   "source": [
    "## Setup"
   ]
  },
  {
   "cell_type": "code",
   "execution_count": 1,
   "id": "loved-george",
   "metadata": {
    "ExecuteTime": {
     "end_time": "2021-05-28T19:51:16.212412Z",
     "start_time": "2021-05-28T19:51:15.373394Z"
    }
   },
   "outputs": [],
   "source": [
    "import torch\n",
    "import torchvision\n",
    "import torchvision.transforms as transforms\n",
    "import matplotlib.pyplot as plt\n",
    "import numpy as np\n",
    "import torch.nn as nn\n",
    "import torch.nn.functional as F\n",
    "import torch.optim as optim\n",
    "from torch.utils.data import DataLoader, TensorDataset\n",
    "import pickle\n",
    "import sys\n",
    "%matplotlib inline"
   ]
  },
  {
   "cell_type": "code",
   "execution_count": 2,
   "id": "extraordinary-press",
   "metadata": {
    "ExecuteTime": {
     "end_time": "2021-05-28T19:51:17.070690Z",
     "start_time": "2021-05-28T19:51:17.037528Z"
    }
   },
   "outputs": [],
   "source": [
    "device = torch.device(\"cuda\" if torch.cuda.is_available() else \"cpu\")\n",
    "torch.backends.cudnn.benchmark = True"
   ]
  },
  {
   "cell_type": "code",
   "execution_count": 3,
   "id": "latin-writing",
   "metadata": {
    "ExecuteTime": {
     "end_time": "2021-05-28T19:51:17.977745Z",
     "start_time": "2021-05-28T19:51:17.964941Z"
    }
   },
   "outputs": [],
   "source": [
    "def rgb2gray(rgb):\n",
    "    \n",
    "    r, g, b = rgb[:,:,0], rgb[:,:,1], rgb[:,:,2]\n",
    "    gray = 0.2989 * r + 0.5870 * g + 0.1140 * b\n",
    "    \n",
    "    return gray"
   ]
  },
  {
   "cell_type": "markdown",
   "id": "brown-charity",
   "metadata": {},
   "source": [
    "## Data Load"
   ]
  },
  {
   "cell_type": "code",
   "execution_count": 47,
   "id": "indoor-blank",
   "metadata": {
    "ExecuteTime": {
     "end_time": "2021-05-28T20:25:09.367614Z",
     "start_time": "2021-05-28T20:25:07.787444Z"
    }
   },
   "outputs": [
    {
     "name": "stdout",
     "output_type": "stream",
     "text": [
      "Files already downloaded and verified\n"
     ]
    }
   ],
   "source": [
    "transform = transforms.Compose(\n",
    "    [transforms.ToTensor(),\n",
    "     transforms.Normalize((0.5, 0.5, 0.5), (0.5, 0.5, 0.5))])\n",
    "\n",
    "with open('faces_python.pkl', 'rb') as f:\n",
    "    lfwdata = pickle.load(f)\n",
    "\n",
    "lfwdata = np.array(lfwdata).reshape(lfwdata.shape[0],1,32,32) \n",
    "\n",
    "cifardata = torchvision.datasets.CIFAR10(root='./data', train=True, \n",
    "                                       transform=transform, download=True)\n",
    "cifardata = np.array(cifardata.data, dtype=np.float32) / 256\n",
    "cifardata = np.array(list(map(lambda x: rgb2gray(x).reshape(1,32,32), cifardata)))"
   ]
  },
  {
   "cell_type": "code",
   "execution_count": 48,
   "id": "mediterranean-calvin",
   "metadata": {
    "ExecuteTime": {
     "end_time": "2021-05-28T20:25:12.089566Z",
     "start_time": "2021-05-28T20:25:11.942140Z"
    }
   },
   "outputs": [
    {
     "data": {
      "text/plain": [
       "<matplotlib.image.AxesImage at 0x7f7d682682b0>"
      ]
     },
     "execution_count": 48,
     "metadata": {},
     "output_type": "execute_result"
    },
    {
     "data": {
      "image/png": "[encoded data removed]",
      "text/plain": [
       "<Figure size 432x288 with 1 Axes>"
      ]
     },
     "metadata": {
      "needs_background": "light"
     },
     "output_type": "display_data"
    }
   ],
   "source": [
    "plt.imshow(lfwdata[2].reshape(32,32), cmap='gray')"
   ]
  },
  {
   "cell_type": "code",
   "execution_count": 49,
   "id": "fancy-electronics",
   "metadata": {
    "ExecuteTime": {
     "end_time": "2021-05-28T20:25:14.899998Z",
     "start_time": "2021-05-28T20:25:14.752102Z"
    }
   },
   "outputs": [
    {
     "data": {
      "text/plain": [
       "<matplotlib.image.AxesImage at 0x7f7d683bbcf8>"
      ]
     },
     "execution_count": 49,
     "metadata": {},
     "output_type": "execute_result"
    },
    {
     "data": {
      "image/png": "[encoded data removed]",
      "text/plain": [
       "<Figure size 432x288 with 1 Axes>"
      ]
     },
     "metadata": {
      "needs_background": "light"
     },
     "output_type": "display_data"
    }
   ],
   "source": [
    "plt.imshow(cifardata[0].reshape(32,32), cmap='gray')"
   ]
  },
  {
   "cell_type": "code",
   "execution_count": 50,
   "id": "rental-segment",
   "metadata": {
    "ExecuteTime": {
     "end_time": "2021-05-28T20:25:17.616602Z",
     "start_time": "2021-05-28T20:25:17.574281Z"
    }
   },
   "outputs": [],
   "source": [
    "# train-test split\n",
    "train_test_split = 0.8\n",
    "\n",
    "# prepare faces\n",
    "tmp1 = np.round(lfwdata.shape[0]*train_test_split).astype(int)\n",
    "train_ct1 = np.ones(tmp1) \n",
    "test_ct1 = np.ones((lfwdata.shape[0]-tmp1,1))\n",
    "train_ci1 = lfwdata[:tmp1,:] \n",
    "test_ci1 = lfwdata[tmp1:,:]\n",
    "\n",
    "# prepare non-faces\n",
    "# note that CIFAR has a lot more images, so here we \n",
    "# restrict also this dataset to the same number of images\n",
    "# as the face dataset!\n",
    "tmp2 = np.round(lfwdata.shape[0]*train_test_split).astype(int)\n",
    "train_ct2 = np.zeros(tmp2) \n",
    "test_ct2 = np.zeros((lfwdata.shape[0]-tmp2,1))\n",
    "train_ci2 = cifardata[:tmp2,:] \n",
    "test_ci2 = cifardata[tmp2:lfwdata.shape[0],:]\n",
    "\n",
    "# now concatenate arrays\n",
    "train_ct12 = np.concatenate((train_ct1,train_ct2),axis=0)\n",
    "train_ci12 = np.concatenate((train_ci1,train_ci2),axis=0)\n",
    "\n",
    "test_ct12 = np.concatenate((test_ct1,test_ct2),axis=0)\n",
    "test_ci12 = np.concatenate((test_ci1,test_ci2),axis=0)"
   ]
  },
  {
   "cell_type": "code",
   "execution_count": 51,
   "id": "invisible-candle",
   "metadata": {
    "ExecuteTime": {
     "end_time": "2021-05-28T20:25:20.368773Z",
     "start_time": "2021-05-28T20:25:20.347298Z"
    }
   },
   "outputs": [],
   "source": [
    "params = {'batch_size': 32,\n",
    "          'shuffle': True,\n",
    "          'num_workers': 2,\n",
    "          'pin_memory' : True}\n",
    "\n",
    "train_ct12 = torch.tensor(train_ct12, dtype=torch.float32)\n",
    "train_ci12 = torch.tensor(train_ci12, dtype=torch.float32)\n",
    "test_ci12 = torch.tensor(test_ci12, dtype=torch.float32)\n",
    "test_ct12 = torch.tensor(test_ct12, dtype=torch.float32)\n",
    "\n",
    "train_dataset = TensorDataset(train_ci12, train_ct12)\n",
    "test_dataset = TensorDataset(test_ci12, test_ct12)\n",
    "\n",
    "trainloader = DataLoader(train_dataset, **params)\n",
    "testloader = DataLoader(test_dataset, **params)"
   ]
  },
  {
   "cell_type": "markdown",
   "id": "latin-portland",
   "metadata": {},
   "source": [
    "---"
   ]
  },
  {
   "cell_type": "code",
   "execution_count": 52,
   "id": "welcome-package",
   "metadata": {
    "ExecuteTime": {
     "end_time": "2021-05-28T20:25:23.262959Z",
     "start_time": "2021-05-28T20:25:22.931610Z"
    }
   },
   "outputs": [
    {
     "data": {
      "image/png": "[encoded data removed]",
      "text/plain": [
       "<Figure size 2592x864 with 1 Axes>"
      ]
     },
     "metadata": {
      "needs_background": "light"
     },
     "output_type": "display_data"
    }
   ],
   "source": [
    "# function to show an image\n",
    "def imshow(img,labels):\n",
    "#     img = img / 2 + 0.5     # unnormalize\n",
    "    npimg = img.numpy()     # convert back from tensor\n",
    "    plt.figure(figsize=(36,12))\n",
    "    plt.imshow(np.transpose(npimg, (1, 2, 0)))    # switch channels\n",
    "    plt.show()\n",
    "\n",
    "\n",
    "# get some random training images\n",
    "# this first initializes the dataloader as an iterator\n",
    "dataiter = iter(trainloader)\n",
    "# this loads a batch from the train data\n",
    "# the number of images to load is defined above with batch_size\n",
    "images, labels = dataiter.next()\n",
    "# show images using the torchvision utility function\n",
    "imshow(torchvision.utils.make_grid(images),labels)"
   ]
  },
  {
   "cell_type": "code",
   "execution_count": 66,
   "id": "japanese-psychology",
   "metadata": {
    "ExecuteTime": {
     "end_time": "2021-05-28T20:29:38.488128Z",
     "start_time": "2021-05-28T20:29:38.474315Z"
    }
   },
   "outputs": [],
   "source": [
    "# defines a small CNN based on the nn.Module class\n",
    "class CNN(nn.Module):\n",
    "    # every nn needs the constructor\n",
    "    def __init__(self):\n",
    "        # call the pytorch constructor of the parent class\n",
    "        super().__init__()\n",
    "        # first convolutional layer\n",
    "        # 3 input layers [because of color images]\n",
    "        # 16 filters with 5x5 pixels each\n",
    "        self.conv1 = nn.Conv2d(1, 16, 5)\n",
    "        # pool using 2x2 grid [downsampling]\n",
    "        self.pool = nn.MaxPool2d(2, 2)\n",
    "        # second convolutional layer\n",
    "        # 16 input layers [because of first conv layer]\n",
    "        # 32 filters with 5x5 pixels each\n",
    "        self.conv2 = nn.Conv2d(16, 32, 5)\n",
    "        # fully connected layer [the 32*5*5 needs to calculated]\n",
    "        self.fc1 = nn.Linear(32 * 5 * 5, 400)\n",
    "        self.fc2 = nn.Linear(400, 80)\n",
    "        self.fc3 = nn.Linear(80, 20)\n",
    "        self.fc4 = nn.Linear(20, 1)\n",
    "\n",
    "\n",
    "    # every nn needs a forward pass function which takes data x\n",
    "    # as input and returns x as output\n",
    "    # the forward function uses the layers defined in the \n",
    "    # constructor to make the network architecture\n",
    "    def forward(self, x):\n",
    "        # Relu of first CONV and pool\n",
    "        x = self.pool(F.relu(self.conv1(x)))\n",
    "        # Relu of second CONV and pool\n",
    "        x = self.pool(F.relu(self.conv2(x)))\n",
    "        # flatten output so that it fits into fc layer\n",
    "        x = torch.flatten(x, 1) # flatten all dimensions except batch\n",
    "        x = F.relu(self.fc1(x))\n",
    "        x = F.relu(self.fc2(x))\n",
    "        x = F.relu(self.fc3(x))\n",
    "        x = self.fc4(x)\n",
    "\n",
    "        return x"
   ]
  },
  {
   "cell_type": "code",
   "execution_count": 67,
   "id": "civic-budget",
   "metadata": {
    "ExecuteTime": {
     "end_time": "2021-05-28T20:29:41.193324Z",
     "start_time": "2021-05-28T20:29:41.190440Z"
    }
   },
   "outputs": [],
   "source": [
    "# define the loss - typically, classification is trained with\n",
    "criterion = nn.BCEWithLogitsLoss()\n",
    "# define the optimizer that will train the network for us\n",
    "optimizer = optim.Adam(net.parameters(), lr=0.001)"
   ]
  },
  {
   "cell_type": "code",
   "execution_count": 68,
   "id": "intellectual-jonathan",
   "metadata": {
    "ExecuteTime": {
     "end_time": "2021-05-28T20:29:44.003706Z",
     "start_time": "2021-05-28T20:29:43.862792Z"
    }
   },
   "outputs": [
    {
     "data": {
      "image/svg+xml": [
       "<?xml version=\"1.0\" encoding=\"UTF-8\" standalone=\"no\"?>\n",
       "<!DOCTYPE svg PUBLIC \"-//W3C//DTD SVG 1.1//EN\"\n",
       " \"http://www.w3.org/Graphics/SVG/1.1/DTD/svg11.dtd\">\n",
       "<!-- Generated by graphviz version 2.40.1 (20161225.0304)\n",
       " -->\n",
       "<!-- Title: %3 Pages: 1 -->\n",
       "<svg width=\"848pt\" height=\"116pt\"\n",
       " viewBox=\"0.00 0.00 848.00 116.00\" xmlns=\"http://www.w3.org/2000/svg\" xmlns:xlink=\"http://www.w3.org/1999/xlink\">\n",
       "<g id=\"graph0\" class=\"graph\" transform=\"scale(1 1) rotate(0) translate(72 80)\">\n",
       "<title>%3</title>\n",
       "<polygon fill=\"#ffffff\" stroke=\"transparent\" points=\"-72,36 -72,-80 776,-80 776,36 -72,36\"/>\n",
       "<!-- /outputs/15 -->\n",
       "<g id=\"node1\" class=\"node\">\n",
       "<title>/outputs/15</title>\n",
       "<polygon fill=\"#e8e8e8\" stroke=\"#000000\" points=\"190,-40 120,-40 120,-4 190,-4 190,-40\"/>\n",
       "<text text-anchor=\"start\" x=\"128\" y=\"-19\" font-family=\"Times\" font-size=\"10.00\" fill=\"#000000\">MaxPool2x2</text>\n",
       "</g>\n",
       "<!-- 305867173228062832 -->\n",
       "<g id=\"node6\" class=\"node\">\n",
       "<title>305867173228062832</title>\n",
       "<polygon fill=\"#e8e8e8\" stroke=\"#000000\" points=\"310,-40 226,-40 226,-4 310,-4 310,-40\"/>\n",
       "<text text-anchor=\"start\" x=\"234\" y=\"-19\" font-family=\"Times\" font-size=\"10.00\" fill=\"#000000\">Conv5x5 &gt; Relu</text>\n",
       "</g>\n",
       "<!-- /outputs/15&#45;&gt;305867173228062832 -->\n",
       "<g id=\"edge3\" class=\"edge\">\n",
       "<title>/outputs/15&#45;&gt;305867173228062832</title>\n",
       "<path fill=\"none\" stroke=\"#000000\" d=\"M190.1345,-22C198.237,-22 207.0271,-22 215.6853,-22\"/>\n",
       "<polygon fill=\"#000000\" stroke=\"#000000\" points=\"215.7397,-25.5001 225.7397,-22 215.7396,-18.5001 215.7397,-25.5001\"/>\n",
       "</g>\n",
       "<!-- /outputs/18 -->\n",
       "<g id=\"node2\" class=\"node\">\n",
       "<title>/outputs/18</title>\n",
       "<polygon fill=\"#e8e8e8\" stroke=\"#000000\" points=\"416,-40 346,-40 346,-4 416,-4 416,-40\"/>\n",
       "<text text-anchor=\"start\" x=\"354\" y=\"-19\" font-family=\"Times\" font-size=\"10.00\" fill=\"#000000\">MaxPool2x2</text>\n",
       "</g>\n",
       "<!-- /outputs/19 -->\n",
       "<g id=\"node3\" class=\"node\">\n",
       "<title>/outputs/19</title>\n",
       "<polygon fill=\"#e8e8e8\" stroke=\"#000000\" points=\"506,-40 452,-40 452,-4 506,-4 506,-40\"/>\n",
       "<text text-anchor=\"start\" x=\"465\" y=\"-19\" font-family=\"Times\" font-size=\"10.00\" fill=\"#000000\">Flatten</text>\n",
       "</g>\n",
       "<!-- /outputs/18&#45;&gt;/outputs/19 -->\n",
       "<g id=\"edge1\" class=\"edge\">\n",
       "<title>/outputs/18&#45;&gt;/outputs/19</title>\n",
       "<path fill=\"none\" stroke=\"#000000\" d=\"M416.1034,-22C424.3675,-22 433.2064,-22 441.5686,-22\"/>\n",
       "<polygon fill=\"#000000\" stroke=\"#000000\" points=\"441.8266,-25.5001 451.8266,-22 441.8266,-18.5001 441.8266,-25.5001\"/>\n",
       "</g>\n",
       "<!-- 4044592583471393533 -->\n",
       "<g id=\"node7\" class=\"node\">\n",
       "<title>4044592583471393533</title>\n",
       "<polygon fill=\"#e8e8e8\" stroke=\"#000000\" points=\"614,-44 542,-44 542,0 614,0 614,-44\"/>\n",
       "<text text-anchor=\"start\" x=\"550\" y=\"-28\" font-family=\"Times\" font-size=\"10.00\" fill=\"#000000\">Linear &gt; Relu</text>\n",
       "<text text-anchor=\"start\" x=\"599\" y=\"-7\" font-family=\"Times\" font-size=\"10.00\" fill=\"#000000\">x3</text>\n",
       "</g>\n",
       "<!-- /outputs/19&#45;&gt;4044592583471393533 -->\n",
       "<g id=\"edge5\" class=\"edge\">\n",
       "<title>/outputs/19&#45;&gt;4044592583471393533</title>\n",
       "<path fill=\"none\" stroke=\"#000000\" d=\"M506.0522,-22C513.9527,-22 522.8212,-22 531.5618,-22\"/>\n",
       "<polygon fill=\"#000000\" stroke=\"#000000\" points=\"531.6982,-25.5001 541.6982,-22 531.6982,-18.5001 531.6982,-25.5001\"/>\n",
       "</g>\n",
       "<!-- /outputs/26 -->\n",
       "<g id=\"node4\" class=\"node\">\n",
       "<title>/outputs/26</title>\n",
       "<polygon fill=\"#e8e8e8\" stroke=\"#000000\" points=\"704,-40 650,-40 650,-4 704,-4 704,-40\"/>\n",
       "<text text-anchor=\"start\" x=\"664\" y=\"-19\" font-family=\"Times\" font-size=\"10.00\" fill=\"#000000\">Linear</text>\n",
       "</g>\n",
       "<!-- 15712700010195792458 -->\n",
       "<g id=\"node5\" class=\"node\">\n",
       "<title>15712700010195792458</title>\n",
       "<polygon fill=\"#e8e8e8\" stroke=\"#000000\" points=\"84,-40 0,-40 0,-4 84,-4 84,-40\"/>\n",
       "<text text-anchor=\"start\" x=\"8\" y=\"-19\" font-family=\"Times\" font-size=\"10.00\" fill=\"#000000\">Conv5x5 &gt; Relu</text>\n",
       "</g>\n",
       "<!-- 15712700010195792458&#45;&gt;/outputs/15 -->\n",
       "<g id=\"edge2\" class=\"edge\">\n",
       "<title>15712700010195792458&#45;&gt;/outputs/15</title>\n",
       "<path fill=\"none\" stroke=\"#000000\" d=\"M84.077,-22C92.4638,-22 101.305,-22 109.7918,-22\"/>\n",
       "<polygon fill=\"#000000\" stroke=\"#000000\" points=\"109.9138,-25.5001 119.9138,-22 109.9138,-18.5001 109.9138,-25.5001\"/>\n",
       "</g>\n",
       "<!-- 305867173228062832&#45;&gt;/outputs/18 -->\n",
       "<g id=\"edge4\" class=\"edge\">\n",
       "<title>305867173228062832&#45;&gt;/outputs/18</title>\n",
       "<path fill=\"none\" stroke=\"#000000\" d=\"M310.077,-22C318.4638,-22 327.305,-22 335.7918,-22\"/>\n",
       "<polygon fill=\"#000000\" stroke=\"#000000\" points=\"335.9138,-25.5001 345.9138,-22 335.9138,-18.5001 335.9138,-25.5001\"/>\n",
       "</g>\n",
       "<!-- 4044592583471393533&#45;&gt;/outputs/26 -->\n",
       "<g id=\"edge6\" class=\"edge\">\n",
       "<title>4044592583471393533&#45;&gt;/outputs/26</title>\n",
       "<path fill=\"none\" stroke=\"#000000\" d=\"M614.0213,-22C622.3402,-22 631.2088,-22 639.5856,-22\"/>\n",
       "<polygon fill=\"#000000\" stroke=\"#000000\" points=\"639.8548,-25.5001 649.8547,-22 639.8547,-18.5001 639.8548,-25.5001\"/>\n",
       "</g>\n",
       "</g>\n",
       "</svg>\n"
      ],
      "text/plain": [
       "<hiddenlayer.graph.Graph at 0x7f7d681bd9e8>"
      ]
     },
     "execution_count": 68,
     "metadata": {},
     "output_type": "execute_result"
    }
   ],
   "source": [
    "net = CNN().to(device)\n",
    "\n",
    "# visualize the architecture\n",
    "import hiddenlayer as hl\n",
    "\n",
    "hl.build_graph(net, torch.zeros([1, 1, 32, 32]).to(device))"
   ]
  },
  {
   "cell_type": "code",
   "execution_count": 69,
   "id": "heated-throat",
   "metadata": {
    "ExecuteTime": {
     "end_time": "2021-05-28T20:29:47.932581Z",
     "start_time": "2021-05-28T20:29:47.924769Z"
    }
   },
   "outputs": [
    {
     "name": "stdout",
     "output_type": "stream",
     "text": [
      "----------------------------------------------------------------\n",
      "        Layer (type)               Output Shape         Param #\n",
      "================================================================\n",
      "            Conv2d-1           [-1, 16, 28, 28]             416\n",
      "         MaxPool2d-2           [-1, 16, 14, 14]               0\n",
      "            Conv2d-3           [-1, 32, 10, 10]          12,832\n",
      "         MaxPool2d-4             [-1, 32, 5, 5]               0\n",
      "            Linear-5                  [-1, 400]         320,400\n",
      "            Linear-6                   [-1, 80]          32,080\n",
      "            Linear-7                   [-1, 20]           1,620\n",
      "            Linear-8                    [-1, 1]              21\n",
      "================================================================\n",
      "Total params: 367,369\n",
      "Trainable params: 367,369\n",
      "Non-trainable params: 0\n",
      "----------------------------------------------------------------\n",
      "Input size (MB): 0.00\n",
      "Forward/backward pass size (MB): 0.15\n",
      "Params size (MB): 1.40\n",
      "Estimated Total Size (MB): 1.56\n",
      "----------------------------------------------------------------\n"
     ]
    }
   ],
   "source": [
    "from torchsummary import summary\n",
    "summary(net, (1, 32, 32))"
   ]
  },
  {
   "cell_type": "code",
   "execution_count": 70,
   "id": "resistant-reliance",
   "metadata": {
    "ExecuteTime": {
     "end_time": "2021-05-28T20:30:11.832158Z",
     "start_time": "2021-05-28T20:29:50.659073Z"
    }
   },
   "outputs": [
    {
     "name": "stdout",
     "output_type": "stream",
     "text": [
      "[Train] Epoch :  9   Train Loss: 0.009501\n",
      "Finished Training\n"
     ]
    }
   ],
   "source": [
    "history = dict()\n",
    "\n",
    "for epoch in range(10):  # loop over the dataset multiple times\n",
    "    running_loss = 0.0\n",
    "    epoch_loss = 0.0\n",
    "    # load a batch of data\n",
    "    for i, data in enumerate(trainloader, 0):\n",
    "        # get the inputs; data is a list of [inputs, labels]\n",
    "        inputs, labels = data[0].to(device), data[1].to(device)\n",
    "\n",
    "        # zero the parameter gradients\n",
    "        optimizer.zero_grad(set_to_none=True)\n",
    "\n",
    "        # forward + loss + backward + optimize\n",
    "        outputs = net(inputs).squeeze(1)\n",
    "        loss = criterion(outputs, labels)\n",
    "        loss.backward()\n",
    "        optimizer.step()\n",
    "        \n",
    "\n",
    "        # print statistics\n",
    "        running_loss += loss.item()\n",
    "        epoch_loss += loss.item()\n",
    "        \n",
    "#         if i % 100 == 99:    # print every 100 mini-batches\n",
    "#             print('[%d, %5d] loss: %.3f' %\n",
    "#                   (epoch + 1, i + 1, running_loss / 100))\n",
    "#             running_loss = 0.0\n",
    "            \n",
    "    sys.stdout.write(\n",
    "    \"\\r\" + f\"[Train] Epoch : {epoch+1:^3}\"\\\n",
    "    f\"  Train Loss: {epoch_loss/len(trainloader):.4}\"\\\n",
    "                )\n",
    "    history.setdefault('loss', []).append(epoch_loss/len(trainloader))\n",
    "\n",
    "\n",
    "print('\\nFinished Training')"
   ]
  },
  {
   "cell_type": "code",
   "execution_count": 71,
   "id": "peaceful-detective",
   "metadata": {
    "ExecuteTime": {
     "end_time": "2021-05-28T20:30:14.468735Z",
     "start_time": "2021-05-28T20:30:14.344733Z"
    }
   },
   "outputs": [
    {
     "data": {
      "image/png": "[encoded data removed]",
      "text/plain": [
       "<Figure size 432x288 with 1 Axes>"
      ]
     },
     "metadata": {
      "needs_background": "light"
     },
     "output_type": "display_data"
    }
   ],
   "source": [
    "plt.plot(history[\"loss\"], label=\"Training Loss\")\n",
    "plt.legend()\n",
    "plt.show()"
   ]
  },
  {
   "cell_type": "code",
   "execution_count": null,
   "id": "powered-partnership",
   "metadata": {},
   "outputs": [],
   "source": [
    "model.eval()\n",
    "test_loss = 0.0\n",
    "for i, data in enumerate(testloader):\n",
    "    inputs, labels = data[0].to(device), data[1].to(device)\n",
    "    outputs = net(inputs).squeeze(1)\n",
    "    loss = criterion(outputs, labels)\n",
    "    test_loss += loss.item()\n",
    "    \n",
    "print(test_loss/len(testloader))"
   ]
  },
  {
   "cell_type": "markdown",
   "id": "consolidated-peoples",
   "metadata": {},
   "source": [
    "---"
   ]
  },
  {
   "cell_type": "markdown",
   "id": "multiple-aside",
   "metadata": {},
   "source": [
    "여기부터는 그냥 교수님 코드 갖다 붙힌거임"
   ]
  },
  {
   "cell_type": "code",
   "execution_count": null,
   "id": "related-ladder",
   "metadata": {
    "ExecuteTime": {
     "end_time": "2021-05-28T17:50:36.042404Z",
     "start_time": "2021-05-28T17:50:36.013879Z"
    }
   },
   "outputs": [],
   "source": [
    "# prepare to count predictions for each class\n",
    "correct_pred = {classname: 0 for classname in classes}\n",
    "total_pred = {classname: 0 for classname in classes}\n",
    "# this will hold all activations for all classes for \n",
    "# later plotting of confusion matrix\n",
    "full_pred = np.empty((len(testloader)*batch_size,len(classes)))\n",
    "# again no gradients needed\n",
    "with torch.no_grad():\n",
    "    # go through all elements in the test set\n",
    "    for i,data in enumerate(testloader):\n",
    "        # again push them to device\n",
    "        inputs, labels = data[0].to(device), data[1].to(device)\n",
    "        # we need the forward pass\n",
    "        outputs = net(inputs)\n",
    "        # and store for later use\n",
    "        full_pred[i*batch_size:i*batch_size+batch_size,:]=outputs.cpu().numpy()\n",
    "        \n",
    "        # the predicted class is the maximum across the\n",
    "        # batch for the second dimension\n",
    "        _, predictions = torch.max(outputs, 1)\n",
    "        # collect the correct predictions for each class\n",
    "        for label, prediction in zip(labels, predictions):\n",
    "            if label == prediction:\n",
    "                correct_pred[classes[label]] += 1\n",
    "            total_pred[classes[label]] += 1\n",
    "        \n",
    "\n",
    "# print accuracy for each class\n",
    "for classname, correct_count in correct_pred.items():\n",
    "    accuracy = 100 * float(correct_count) / total_pred[classname]\n",
    "    print(\"Accuracy for class {:5s} is: {:.1f} %\".format(classname,\n",
    "                                                   accuracy))"
   ]
  },
  {
   "cell_type": "code",
   "execution_count": null,
   "id": "statutory-renewal",
   "metadata": {},
   "outputs": [],
   "source": [
    "import itertools\n",
    "# function to plot confusion matrix\n",
    "# adapted from https://deeplizard.com/learn/video/0LhiS6yu2qQ\n",
    "def plot_confusion_matrix(cm, classes, normalize=False, title='Confusion matrix', cmap=plt.cm.Blues):\n",
    "    if normalize:\n",
    "        cm = cm.astype('float') / cm.sum(axis=1)[:, np.newaxis]\n",
    "        title = '{} Accuracy: {:.2f}'.format(\n",
    "            title,np.mean(np.diag(cm)))\n",
    "        print(\"Normalized confusion matrix\")\n",
    "    else:\n",
    "        print('Confusion matrix, without normalization')\n",
    "\n",
    "    #print(cm)\n",
    "    plt.figure(figsize=(20,20))\n",
    "    plt.imshow(cm, interpolation='nearest', cmap=cmap)\n",
    "    plt.title(title,fontsize=26)\n",
    "    cbar = plt.colorbar()\n",
    "    # this is needed to adjust the small ticklabels on the colorbar\n",
    "    for t in cbar.ax.get_yticklabels():\n",
    "        t.set_fontsize(20)\n",
    "    # show the x and y ticks with nice rotation if needed\n",
    "    tick_marks = np.arange(len(classes))\n",
    "    plt.xticks(tick_marks, classes, rotation=45,fontsize=22)\n",
    "    plt.yticks(tick_marks, classes,fontsize=22)\n",
    "\n",
    "    fmt = '.2f' if normalize else 'd'\n",
    "    # adjust threshold for black / white font\n",
    "    thresh = cm.max() / 2.\n",
    "    for i, j in itertools.product(range(cm.shape[0]), range(cm.shape[1])):\n",
    "        plt.text(j, i, format(cm[i, j], fmt), \n",
    "                 horizontalalignment=\"center\", \n",
    "                 color=\"white\" if cm[i, j] > thresh else \"black\",\n",
    "                 fontsize=22\n",
    "                )\n",
    "\n",
    "    plt.tight_layout()\n",
    "    plt.ylabel('True label',fontsize=22)\n",
    "    plt.xlabel('Predicted label',fontsize=22)"
   ]
  },
  {
   "cell_type": "code",
   "execution_count": null,
   "id": "rational-robinson",
   "metadata": {},
   "outputs": [],
   "source": [
    "# make confusion matrix\n",
    "cm = np.zeros((len(classes),len(classes)))\n",
    "# the true labels\n",
    "tr = testset.targets\n",
    "# the predicted labels\n",
    "pr = full_pred.argmax(axis=1)\n",
    "# add for each pair\n",
    "for i in range(len(testset.targets)):\n",
    "    cm[tr[i],pr[i]]+=1\n",
    "    \n",
    "plot_confusion_matrix(cm,classes,normalize=True)"
   ]
  }
 ],
 "metadata": {
  "hide_input": false,
  "kernelspec": {
   "display_name": "Python 3",
   "language": "python",
   "name": "python3"
  },
  "language_info": {
   "codemirror_mode": {
    "name": "ipython",
    "version": 3
   },
   "file_extension": ".py",
   "mimetype": "text/x-python",
   "name": "python",
   "nbconvert_exporter": "python",
   "pygments_lexer": "ipython3",
   "version": "3.6.9"
  },
  "toc": {
   "base_numbering": 1,
   "nav_menu": {},
   "number_sections": true,
   "sideBar": true,
   "skip_h1_title": false,
   "title_cell": "Table of Contents",
   "title_sidebar": "Contents",
   "toc_cell": false,
   "toc_position": {},
   "toc_section_display": true,
   "toc_window_display": false
  },
  "varInspector": {
   "cols": {
    "lenName": 16,
    "lenType": 16,
    "lenVar": 40
   },
   "kernels_config": {
    "python": {
     "delete_cmd_postfix": "",
     "delete_cmd_prefix": "del ",
     "library": "var_list.py",
     "varRefreshCmd": "print(var_dic_list())"
    },
    "r": {
     "delete_cmd_postfix": ") ",
     "delete_cmd_prefix": "rm(",
     "library": "var_list.r",
     "varRefreshCmd": "cat(var_dic_list()) "
    }
   },
   "position": {
    "height": "557px",
    "left": "1533px",
    "right": "20px",
    "top": "120px",
    "width": "367px"
   },
   "types_to_exclude": [
    "module",
    "function",
    "builtin_function_or_method",
    "instance",
    "_Feature"
   ],
   "window_display": true
  }
 },
 "nbformat": 4,
 "nbformat_minor": 5
}
